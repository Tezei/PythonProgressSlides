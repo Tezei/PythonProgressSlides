{
 "cells": [
  {
   "cell_type": "markdown",
   "metadata": {},
   "source": [
    "## Introduction to Databases with Python\n",
    "----------------------------------------------------------------------------------------\n",
    "\n",
    "![sqlitepython](http://www.sqlitetutorial.net/wp-content/uploads/2016/01/SQLite-Python.jpg)"
   ]
  },
  {
   "cell_type": "markdown",
   "metadata": {},
   "source": [
    "# WTF is a database, dude?\n",
    "----------------------------------------------------------------------------------------\n",
    "* A collection of data, can scale better than simple(flat) file.\n",
    "* Usually designed to model real world(OOP someone?).\n",
    "* Offers some kind of query language for CRUD operations.\n",
    "* Most popular are the relational databases."
   ]
  },
  {
   "cell_type": "markdown",
   "metadata": {},
   "source": [
    "# Database landscape in the 80's\n",
    "----------------------------------------------------\n",
    "* Hierarchical\n",
    "\n",
    "![](https://mariadb.com/kb/en/library/understanding-the-hierarchical-database-model/+image/hierarchical_model2)"
   ]
  },
  {
   "cell_type": "markdown",
   "metadata": {},
   "source": [
    "* Network\n",
    "\n",
    "![](https://mhaadi.files.wordpress.com/2010/10/ssnetwork.gif?w=650)"
   ]
  },
  {
   "cell_type": "markdown",
   "metadata": {},
   "source": [
    "# Now WTF is a relational database?\n",
    "-----------------------------------------------------------------------------------------\n",
    "\n",
    "> This(relational) model organizes data into one or more tables (or \"relations\") of columns and rows, with a unique key identifying each row. Rows are also called records or tuples.[2] Columns are also called attributes. Generally, each table/relation represents one \"entity type\" (such as customer or product). The rows represent instances of that type of entity (such as \"Lee\" or \"chair\") and the columns representing values attributed to that instance (such as address or price).\n",
    "                                                                                    Wikipedia\n",
    "                                                                                    \n",
    "* Relationships between entities can solve real world problems(e.g. John(**entity-customer**) buys 1 Big Mac(**entity-product**).)\n",
    "* The query language is **SQL**- many different flavors but the underlying concepts remain the same."
   ]
  },
  {
   "cell_type": "markdown",
   "metadata": {},
   "source": [
    "![relational](https://camo.githubusercontent.com/9d9e8c4277647127ca95aa8b4cc62506afb7fb3d/687474703a2f2f7777772e696e666f726d61746963732e696e6469616e612e6564752f6d686f7474656c6c2f693130312f6c6162732f73756d6d657230352f696d616765732f7461626c65322e676966)"
   ]
  },
  {
   "cell_type": "markdown",
   "metadata": {},
   "source": [
    "# Why it is useful?\n",
    "-----------------------------------------------------------------------------------------\n",
    "![](https://www.lee.k12.nc.us/cms/lib/NC01001912/Centricity/Domain/2133/suggestions.jpg)"
   ]
  },
  {
   "cell_type": "markdown",
   "metadata": {},
   "source": [
    "## Just because it is\n",
    "------------------------------------------------------------------------------------------\n",
    "\n",
    "* Separation of program logic(code) and data.\n",
    "* Same data can be reused in many different applications.\n",
    "* More sophisticated and flexible than flat file. What do you think if 20+ people are opening and saving the same file at the same time? What if somebody forgets to close it? \n",
    "* Databases can handle indexing tasks, so the mentioned querying can get really fast.\n",
    "* Databases provided native multiuser, multiprocess and network access\n",
    "\n",
    "Remember:\n",
    "* Files corrupt easily and generally are not designed for concurrent multi-user read-write. \n",
    "* Also when you open them you load the whole thing in your RAM memory. Not the case with databases.\n",
    "* How do you query a file? You crawl through it manually. Errr....let's just use SQLite."
   ]
  },
  {
   "cell_type": "markdown",
   "metadata": {},
   "source": [
    "# What is SQLite 3?\n",
    "----------------------------------------------------------------------------------------------\n",
    "\n",
    "* Relational database engine. Comes with your Python installation.\n",
    "* Your whole database is kept in a single file.\n",
    "* Suitable for small to medium scale projects.\n",
    "\n",
    "![signmeup](http://greatbridgewrestlingclub.com/wp-content/uploads/2014/08/sign-me-up.jpg)"
   ]
  },
  {
   "cell_type": "markdown",
   "metadata": {},
   "source": [
    "# Using SQLite with Python\n",
    "------------------------------------------------------------------------------\n",
    "\n",
    "```python\n",
    "import sqlite3\n",
    "\n",
    "conn = sqlite3.connect('progress.db')\n",
    "c = conn.cursor()\n",
    "```\n",
    "\n",
    "Now go check the folder your program is in. There is another file there. Takeout: if we connect to a database that does not yet exist, SQLite creates it.\n",
    "\n",
    "Also you can create a in-memory database using the following connection string:\n",
    "```\n",
    "c1 = sqlite3.connect(\"file::memory:?cache=shared\")\n",
    "```\n",
    "By default SQLite does not offer any password protection so whoever has the db file has your data. Not perfect, but many solutions. You can research the official encryption extension [here](http://www.hwaci.com/sw/sqlite/see.html)."
   ]
  },
  {
   "cell_type": "markdown",
   "metadata": {},
   "source": [
    "# I want to create and update a table\n",
    "----------------------------------------------------------------------------------------------------------------\n",
    "\n",
    "All the transactions are executed using the cursor. Let's see the official example from the docs:\n",
    "```python\n",
    "# Create table\n",
    "c.execute('''CREATE TABLE IF NOT EXISTS stocks\n",
    "             (date text, trans text, symbol text, qty real, price real)''')\n",
    "\n",
    "# Insert a row of data\n",
    "c.execute(\"INSERT INTO stocks VALUES ('2006-01-05','BUY','RHAT',100,35.14)\")\n",
    "\n",
    "# Save (commit) the changes\n",
    "conn.commit()\n",
    "\n",
    "# We can also close the connection if we are done with it.\n",
    "# Just be sure any changes have been committed or they will be lost.\n",
    "conn.close()\n",
    "```\n",
    "See how after transactions are executed, they have to be commited to take effect. Also like we did with files we have to close the connection when we are done."
   ]
  },
  {
   "cell_type": "markdown",
   "metadata": {},
   "source": [
    "# Onto the cool stuff now\n",
    "----------------------------------------------------------------------------------------\n",
    "We can execute database queries in functions and with variables from our program. \n",
    "```python\n",
    "def insert_row(date,trans,symbol,qty,price):\n",
    "    c.execute(\"INSERT INTO stocks (date,trans,symbol,qty,price) VALUES (?,?,?,?,?)\",(date,trans,symbol,qty,price))\n",
    "    conn.commit()\n",
    "    \n",
    "insert_row('2011-01-05','SELL','APPL',10000,11.12)\n",
    "```\n",
    "In order to make the execute more Python 3 looking we can do:\n",
    "```python\n",
    "c.execute(\"INSERT INTO stocks (date,trans,symbol,qty,price) VALUES ('{}','{}','{}',{},{})\".format(date,trans,symbol,qty,price))\n",
    "```\n",
    "Note that setting database entries using variables this way can break the whole database. \n",
    "We can select entres from the database:\n",
    "```python\n",
    "c.execute('SELECT * from stocks')\n",
    "for row in c.fetchall()\n",
    "    print(row)\n",
    "```\n",
    "Try to execute the following query by yourself: SELECT * FROM stocks WHERE trans='BUY'\n",
    "Then try SELECTing just one column from the table."
   ]
  },
  {
   "cell_type": "markdown",
   "metadata": {},
   "source": [
    "```python\n",
    "c.execute('SELECT * FROM stocks where trans=?',('BUY',))\n",
    "```"
   ]
  },
  {
   "cell_type": "markdown",
   "metadata": {},
   "source": [
    "# Context managers a.k.a. with statement and SQLite\n",
    "-----------------------------------------------------------------------\n",
    "\n",
    "```python\n",
    "def insert_row(date,trans,symbol,qty,price):\n",
    "    with conn:\n",
    "        c.execute(\"INSERT INTO stocks (date,trans,symbol,qty,price) VALUES (?,?,?,?,?)\",(date,trans,symbol,qty,price))\n",
    "```"
   ]
  },
  {
   "cell_type": "markdown",
   "metadata": {},
   "source": [
    "# UPDATE and DELETE - point of no return\n",
    "-----------------------------------------------------------------------------\n",
    "\n",
    "```python\n",
    "c.execute('UPDATE stocks SET price=1 WHERE price=11.12')\n",
    "conn.commit()\n",
    "```\n",
    "\n",
    "```python\n",
    "c.execute('DELETE FROM stocks WHERE price=1')\n",
    "conn.commit()\n",
    "```"
   ]
  },
  {
   "cell_type": "markdown",
   "metadata": {},
   "source": [
    "# DUMPing database to a file\n",
    "-----------------------------------------------------------------------------\n",
    "```python\n",
    "with open('dump.sql','w') as f:\n",
    "    for line in conn.iterdump():\n",
    "        f.write(\"{}\\n\".format(line))\n",
    "```"
   ]
  },
  {
   "cell_type": "markdown",
   "metadata": {},
   "source": [
    "## SQLAlchemy\n",
    "----------------------------------------------------------------------------------------------\n",
    "![](https://www.fullstackpython.com/img/logos/sqlalchemy.jpg)"
   ]
  },
  {
   "cell_type": "markdown",
   "metadata": {},
   "source": [
    "# SQLAlchemy is an ORM\n",
    "--------------------------------------------------------------------\n",
    "\n",
    ">Object-Relational Mapping (ORM) is a technique that lets you query and manipulate data from a database using an object-oriented paradigm. When talking about ORM, most people are referring to a library that implements the Object-Relational Mapping technique, hence the phrase \"an ORM\".\n",
    "\n",
    "|Pros of ORMs:                                         |                     Cons of ORMs:                            |\n",
    "|----------------------------------------------------- | -------------------------------------------------------------|\n",
    "|Feel more natural if you know Python                  |    Steep learning curve, not easy at all                     |\n",
    "|A lot of database handling stuff is done automatically|    It is a pain to set up right                              |\n",
    "|Abstracts the database, so not database agnostic      |    You have no direct access to the database,only abstraction|\n",
    "|You can use OOP concepts(e.g inheritance)             |    SQL queries can be better fine tuned for performance      |"
   ]
  },
  {
   "cell_type": "markdown",
   "metadata": {},
   "source": [
    "![](https://lh4.googleusercontent.com/Xzlor68rkHmdKNlSyfoVEokbZsbeCrsiJyqlsDl99Rppe_3UvDM-CGoaj4vboovuCd4Br1p8DFrJBJSvTdmJ=w1920-h941)"
   ]
  },
  {
   "cell_type": "markdown",
   "metadata": {},
   "source": [
    "# How to get started\n",
    "---------------------------------------------------------------------------------------------------\n",
    "\n",
    "```python\n",
    "pip install sqlalchemy\n",
    "```\n",
    "\n",
    "Import some modules from the library in your python script to test if it is installed right:\n",
    "\n",
    "```python\n",
    "from sqlalchemy import Table, Column, Integer, String\n",
    "from sqlalchemy import create_engine\n",
    "from sqlalchemy.ext.declarative import declarative_base\n",
    "from sqlalchemy.orm import sessionmaker\n",
    "```"
   ]
  },
  {
   "cell_type": "markdown",
   "metadata": {},
   "source": [
    "![](https://static1.squarespace.com/static/5286828ae4b08b83ea176e95/t/56d755e486db43c1b33edca5/1456952807640/)"
   ]
  },
  {
   "cell_type": "markdown",
   "metadata": {},
   "source": [
    "# Next steps\n",
    "-----------------------------------------------------------------\n",
    "Create a database engine connection:\n",
    "```python\n",
    "engine = create_engine('sqlite:///employees.db')  #Try setting echo=True option\n",
    "```\n",
    "Then create our Base class from which our classess will inherit:\n",
    "```python\n",
    "Base = declarative_base()\n",
    "```\n",
    "And open a new database session(similarly to the cursor with the plain sqlite library):\n",
    "```python\n",
    "Session = sessionmaker(bind=engine)\n",
    "session = Session()\n",
    "```\n",
    "\n",
    "Now we are game on!"
   ]
  },
  {
   "cell_type": "markdown",
   "metadata": {},
   "source": [
    "# Let's experience some ORM goodness\n",
    "-----------------------------------------------------------------------------\n",
    "Create an Employee class like this:\n",
    "```python\n",
    "class Employee(Base):\n",
    "    __tablename__  = 'Employees'\n",
    "    \n",
    "    id = Column('id', Integer, primary_key=True)\n",
    "    first = Column('first', String)\n",
    "    last = Column('last', String)\n",
    "    pay = Column('pay', Integer)\n",
    "    \n",
    "    def __init__(self, id, first, last, pay):\n",
    "        self.id = id\n",
    "        self.first = first\n",
    "        self.last = last\n",
    "        self.pay = pay\n",
    "```\n",
    "Don't worry I will explain it :)\n",
    "\n",
    "Now create all tables inheriting from Base(we have only Employees for now):\n",
    "```python\n",
    "Base.metadata.create_all(bind=engine)\n",
    "```"
   ]
  },
  {
   "cell_type": "markdown",
   "metadata": {},
   "source": [
    "# See what I did there?\n",
    "----------------------------------------------------------------------------------------------------\n",
    "\n",
    "Now when we create an employee, a record for it gets added to the table Employees in our database:\n",
    "\n",
    "```python\n",
    "john = Employee(0,\"Johny\",\"Doe\",50000)\n",
    "session.add(john)\n",
    "session.commit()\n",
    "```\n",
    "Or if we want to add multiple objects at once instead of add we use:\n",
    "```python\n",
    "mary = Employee(1,\"Mary\",\"Johnson\",24000)\n",
    "kate = Employee(2,\"Kate\",\"Jackson\",13000)\n",
    "session.bulk_save_objects([john,mary,kate])\n",
    "```\n",
    "We can also execute SQL queries the ORM way. This is equivalent to __UPDATE Employee SET pay = pay +1 WHERE first='Johny'__:\n",
    "```python\n",
    "session.query(Employee).filter_by(first=\"Johny\").update({Employee.pay: Employee.pay + 1})\n",
    "session.commit()\n",
    "```\n",
    "\n",
    "And this is equivalent to __SELECT first FROM Employee__:\n",
    "```python\n",
    "for employee in session.query(Employee).all():\n",
    "    print(employee.first)\n",
    "```"
   ]
  },
  {
   "cell_type": "markdown",
   "metadata": {},
   "source": [
    "# Loading data from file into a database\n",
    "---------------------------------------------------------------------------------------------\n",
    "\n",
    "Get the temperature deviation dataset from [here](http://tiny.cc/tempdev).\n",
    "\n",
    "Install the pandas library.\n",
    "\n",
    "Then load the csv file into the database like this:\n",
    "```python\n",
    "from sqlalchemy import create_engine\n",
    "import pandas as pd\n",
    "\n",
    "engine = create_engine('sqlite:///temperature.db')\n",
    "content = pd.read_csv('TempVariance1880-2017.csv',sep=';')\n",
    "content.to_sql(name='temperatures', con=engine)\n",
    "\n",
    "```"
   ]
  },
  {
   "cell_type": "markdown",
   "metadata": {},
   "source": [
    "# Plotting/Charting\n",
    "----------------------------------------------------------------------------------------------\n",
    "\n",
    "Let's get back to our Employee class and database. What if we want to create a barchart with the names of the employees on the horizontal axis and their corresponding salaries on the vertical.\n",
    "\n",
    "So we need something like this\n",
    "\n",
    "```python\n",
    "x = [john,mary,kate]\n",
    "y = [50000,24000,13000]\n",
    "```\n",
    "How do query the database?\n",
    "\n",
    "```python\n",
    "for employee in session.query(Employee).all():\n",
    "    x.append(employee.first)\n",
    "    y.append(employee.pay)\n",
    "```\n"
   ]
  },
  {
   "cell_type": "markdown",
   "metadata": {},
   "source": [
    "![](https://matplotlib.org/_static/logo2.svg)\n",
    "![](http://wiki.openhatch.org/images/d/d8/Matplotlib_gallery.png)"
   ]
  },
  {
   "cell_type": "markdown",
   "metadata": {},
   "source": [
    "![](http://matplotlib.1069221.n5.nabble.com/file/n39657/image.png)"
   ]
  },
  {
   "cell_type": "markdown",
   "metadata": {},
   "source": [
    "# Add the following to your code to get a nice chart\n",
    "----------------------------------------------------------------------------\n",
    "```python\n",
    "import matplotlib.pyplot as plt\n",
    "\n",
    "plt.bar(x,y)\n",
    "plt.show()\n",
    "```"
   ]
  },
  {
   "cell_type": "markdown",
   "metadata": {},
   "source": [
    "# Once we plotted from database, let's plot from csv\n",
    "------------------------------------------------------------------------------------------------------\n",
    "\n",
    "```python\n",
    "import pandas as pd\n",
    "import matplotlib.pyplot as plt\n",
    "\n",
    "temperatures = pd.read_csv('TempVariance1880-2017.csv',sep=';')\n",
    "print(temperatures)\n",
    "x = temperatures['Year']\n",
    "y = temperatures['Value']\n",
    "plt.bar(x, y)\n",
    "plt.show()\n",
    "```\n"
   ]
  },
  {
   "cell_type": "markdown",
   "metadata": {},
   "source": [
    "# Some other things you should know\n",
    "-----------------------------------------------------------------------------------\n",
    "\n",
    "You can change the style of the chart like this:\n",
    "```python\n",
    "plt.style.use(\"ggplot\")\n",
    "```\n",
    "I like the fivethirtyeight style.\n",
    "\n",
    "Also you can add title and x and y labels to the chart:\n",
    "```python\n",
    "plt.title(\"Global Land and Ocean Temperature Anomalies, June\",fontsize=15)\n",
    "plt.xlabel(\"year\")\n",
    "plt.ylabel(\"degrees F +/- from average\")\n",
    "```\n",
    "\n",
    "Simiarly to showing the chart you can save it to a file\n",
    "```python\n",
    "plt.savefig('sampleFileName.png')\n",
    "```"
   ]
  },
  {
   "cell_type": "markdown",
   "metadata": {},
   "source": [
    "# We have bar chart what about a line chart?\n",
    "-----------------------------------------------------------------\n",
    "```python\n",
    "import matplotlib.pyplot as plt\n",
    "\n",
    "x = [1,2,3]\n",
    "y = [5,7,4]\n",
    "\n",
    "x2 = [1,2,3]\n",
    "y2 = [10,14,12]\n",
    "\n",
    "plt.plot(x, y, label='First Line')\n",
    "plt.plot(x2, y2, label='Second Line')\n",
    "\n",
    "plt.xlabel('Plot Number')\n",
    "plt.ylabel('Important var')\n",
    "plt.title('Interesting Graph\\nCheck it out')\n",
    "plt.legend()\n",
    "plt.show()\n",
    "```"
   ]
  }
 ],
 "metadata": {
  "kernelspec": {
   "display_name": "Python 3",
   "language": "python",
   "name": "python3"
  },
  "language_info": {
   "codemirror_mode": {
    "name": "ipython",
    "version": 3
   },
   "file_extension": ".py",
   "mimetype": "text/x-python",
   "name": "python",
   "nbconvert_exporter": "python",
   "pygments_lexer": "ipython3",
   "version": "3.6.3"
  }
 },
 "nbformat": 4,
 "nbformat_minor": 2
}
