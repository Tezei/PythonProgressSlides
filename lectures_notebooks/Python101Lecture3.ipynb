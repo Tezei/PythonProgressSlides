{
 "cells": [
  {
   "cell_type": "markdown",
   "metadata": {},
   "source": [
    "## OOP Magic Methods\n",
    "--------------------------------------\n",
    "\n",
    "* __repr__, __str__\n",
    "* __add__, __sub__, __mul__, __div__\n",
    "* Extended : __iadd__, __isub__.....\n",
    "* __getattr__\n",
    "* __contains__ and __iter__"
   ]
  },
  {
   "cell_type": "markdown",
   "metadata": {},
   "source": [
    "## OOP final task: implement a linked list\n",
    "------------------------------------------------\n",
    "\n",
    "> In computer science, a linked list is a linear collection of data elements, in which linear order is not given by their physical placement in memory. Instead, each element points to the next. It is a data structure consisting of a group of nodes which together represent a sequence. Under the simplest form, each node is composed of data and a reference (in other words, a link) to the next node in the sequence. This structure allows for efficient insertion or removal of elements from any position in the sequence during iteration."
   ]
  },
  {
   "cell_type": "markdown",
   "metadata": {},
   "source": [
    "![linked list](https://upload.wikimedia.org/wikipedia/commons/thumb/6/6d/Singly-linked-list.svg/408px-Singly-linked-list.svg.png)\n",
    "\n",
    "Advantage:\n",
    "* List elements can easily be inserted or removed without reallocation or reorganization of the entire structure because the data items need not be stored contiguously in memory or on disk\n",
    "\n",
    "Disadvantage:\n",
    "*  Simple linked lists by themselves do not allow random access to the data, or any form of efficient indexing"
   ]
  },
  {
   "cell_type": "markdown",
   "metadata": {},
   "source": [
    "# The init of the List class\n",
    "-----------------------------------\n",
    "```python\n",
    "class SinglyLinkedList:\n",
    "    def __init__(self):\n",
    "        \"\"\"\n",
    "        Create a new singly-linked list.\n",
    "        Takes O(1) time.\n",
    "        \"\"\"\n",
    "        self.head = None\n",
    "\n",
    "    def __repr__(self):\n",
    "        \"\"\"\n",
    "        Return a string representation of the list.\n",
    "        Takes O(n) time.\n",
    "        \"\"\"\n",
    "        nodes = []\n",
    "        curr = self.head\n",
    "        while curr:\n",
    "            nodes.append(repr(curr))\n",
    "            curr = curr.next\n",
    "        return '[' + ', '.join(nodes) + ']'\n",
    "```"
   ]
  },
  {
   "cell_type": "markdown",
   "metadata": {},
   "source": [
    "# Start by creating an Element(or Node) class\n",
    "-------------------------------------------------------\n",
    "\n",
    "```python\n",
    "class ListNode:\n",
    "    \"\"\"\n",
    "    A node in a singly-linked list.\n",
    "    \"\"\"\n",
    "    def __init__(self, data=None, next=None):\n",
    "        self.data = data\n",
    "        self.next = next\n",
    "\n",
    "    def __repr__(self):\n",
    "        return repr(self.data)\n",
    "\n",
    "```"
   ]
  },
  {
   "cell_type": "markdown",
   "metadata": {},
   "source": [
    "# Methods for prepending/appending elements \n",
    "-----------------------------------\n",
    "\n",
    "```python\n",
    "    def prepend(self, data):\n",
    "        \"\"\"\n",
    "        Insert a new element at the beginning of the list.\n",
    "        Takes O(1) time.\n",
    "        \"\"\"\n",
    "        self.head = ListNode(data=data, next=self.head)\n",
    "\n",
    "    def append(self, data):\n",
    "        \"\"\"\n",
    "        Insert a new element at the end of the list.\n",
    "        Takes O(n) time.\n",
    "        \"\"\"\n",
    "        if not self.head:\n",
    "            self.head = ListNode(data=data)\n",
    "            return\n",
    "        curr = self.head\n",
    "        while curr.next:\n",
    "            curr = curr.next\n",
    "        curr.next = ListNode(data=data)\n",
    "```"
   ]
  },
  {
   "cell_type": "markdown",
   "metadata": {},
   "source": [
    "# Removing an element\n",
    "----------------------------------------------\n",
    "\n",
    "```python\n",
    "    def remove(self, key):\n",
    "        \"\"\"\n",
    "        Remove the first occurrence of `key` in the list.\n",
    "        Takes O(n) time.\n",
    "        \"\"\"\n",
    "        # Find the element and keep a\n",
    "        # reference to the element preceding it\n",
    "        curr = self.head\n",
    "        prev = None\n",
    "        while curr and curr.data != key:\n",
    "            prev = curr\n",
    "            curr = curr.next\n",
    "        # Unlink it from the list\n",
    "        if prev is None:\n",
    "            self.head = curr.next\n",
    "        elif curr:\n",
    "            prev.next = curr.next\n",
    "            curr.next = None\n",
    "```"
   ]
  },
  {
   "cell_type": "markdown",
   "metadata": {},
   "source": [
    "# Aaaaand finally finding an element by key\n",
    "-----------------------------------------------------\n",
    "\n",
    "```python\n",
    "    def find(self, key):\n",
    "        \"\"\"\n",
    "        Search for the first element with `data` matching\n",
    "        `key`. Return the element or `None` if not found.\n",
    "        Takes O(n) time.\n",
    "        \"\"\"\n",
    "        curr = self.head\n",
    "        while curr and curr.data != key:\n",
    "            curr = curr.next\n",
    "        return curr  # Will be None if not found\n",
    "```"
   ]
  },
  {
   "cell_type": "markdown",
   "metadata": {},
   "source": [
    "# Regular Expressions\n",
    "----------------------------------------------------------------------------------\n",
    "\n",
    "![regex](http://orcunyilmaz.com/wp-content/uploads/pep-vn/c4/c4f16da4/regex-usage-meme-300x199-7f.jpg)"
   ]
  },
  {
   "cell_type": "markdown",
   "metadata": {},
   "source": [
    "* Tiny language built into Python for parsing text\n",
    "* Finds matches based on some patherns\n",
    "* Widely supported accross all languages with minor standartisation differences.\n",
    "* Regex101.com is your friend"
   ]
  },
  {
   "cell_type": "markdown",
   "metadata": {},
   "source": [
    "# Challenge\n",
    "-----------------------------\n",
    "\n",
    "Say you want to find a phone number in a string. You know the pattern: three numbers, a hyphen, three numbers, a hyphen, and four numbers. Here’s an example: 415-555-4242. Write a program which an input matches this pattern.\n",
    "\n",
    "Hint: You can check whether a string represents a number with the **isdecimal()** method. For example '3'.isdecimal() returns True."
   ]
  },
  {
   "cell_type": "markdown",
   "metadata": {},
   "source": [
    "# Regex magic\n",
    "---------------------------------------\n",
    "```python\n",
    "\\d\\d\\d-\\d\\d\\d-\\d\\d\\d\\d\n",
    "```\n",
    "\n",
    "or even \n",
    "\n",
    "```python\n",
    "\\d{3}-\\d{3}-\\d{4}\n",
    "```\n",
    "\n",
    "The number of repetitions is put in curly braces. The syntax is represented in the next examples:\n",
    "* {3,} - three or more instances\n",
    "* {,5} - zero to five instances\n",
    "* {2,5} - two to five instances "
   ]
  },
  {
   "cell_type": "markdown",
   "metadata": {},
   "source": [
    "# How to use regular expressions in Python?\n",
    "-----------------------------------------------------\n",
    "\n",
    "```python\n",
    "import re\n",
    "\n",
    "phoneNumRegex = re.compile(r'\\d\\d\\d-\\d\\d\\d-\\d\\d\\d\\d')\n",
    "```\n",
    "\n",
    "* Check the type of the **phoneNumRegex** variable\n",
    "* what does the 'r' before the string mean?\n",
    "Then:\n",
    "\n",
    "```python\n",
    "mo = phoneNumRegex.search('My number is 415-555-4242.')\n",
    "print('Phone number found: ' + mo.group())\n",
    "```"
   ]
  },
  {
   "cell_type": "markdown",
   "metadata": {},
   "source": [
    "# Capture groups\n",
    "---------------------------------------------------------------\n",
    "\n",
    "```python\n",
    "phoneNumRegex = re.compile(r'(\\d\\d\\d)-(\\d\\d\\d-\\d\\d\\d\\d)')\n",
    "print(mo.group(1))\n",
    "print(mo.group(0))\n",
    "print(mo.group(2))\n",
    "rint(mo.groups())\n",
    "```"
   ]
  },
  {
   "cell_type": "markdown",
   "metadata": {},
   "source": [
    "# Piping - conditional matching\n",
    "--------------------------------------------------\n",
    "\n",
    "```python\n",
    "heroRegex = re.compile (r'Batman|Superman')\n",
    "mo1 = heroRegex.search('Batman and Superman.')\n",
    "```\n",
    "But:\n",
    "```python\n",
    "heroRegex = re.compile (r'Batman|Superman')\n",
    "mo1 = heroRegex.search('Superman and Batman.')\n",
    "```\n",
    "\n",
    "Try substituting search() with findall()\n",
    "\n",
    "```python\n",
    "batRegex = re.compile(r'Bat(man|mobile|copter|bat)')\n",
    "mo = batRegex.search('Batmobile lost a wheel')\n",
    "print(mo.group())\n",
    "print(mo.group(1))\n",
    "```"
   ]
  },
  {
   "cell_type": "markdown",
   "metadata": {},
   "source": [
    "# Question mark - optional matching\n",
    "-----------------------------------------------------\n",
    "\n",
    "```python\n",
    "batRegex = re.compile(r'Bat(wo)?man')\n",
    "mo1 = batRegex.search('The Adventures of Batman')\n",
    "mo1.group()\n",
    "```\n",
    "\n",
    "* Task: try to create a regex which match both the 555-555-555 phone number pattern and this one 555-555."
   ]
  },
  {
   "cell_type": "markdown",
   "metadata": {},
   "source": [
    "# Star - zero or more/ Plus - one or more\n",
    "----------------------------------------------------------\n",
    " \n",
    " * The group that precedes the star can occur any number of times in the text. It can be completely absent or repeated over and over again.\n",
    "\n",
    "```python\n",
    "batRegex = re.compile(r'Bat(wo)*man')\n",
    "mo1 = batRegex.search('The Adventures of Batman')\n",
    "mo1.group()\n",
    "```\n",
    "\n",
    "* Try using plus instad of star and create your own example"
   ]
  },
  {
   "cell_type": "markdown",
   "metadata": {},
   "source": [
    "# Important stuff here\n",
    "----------------------------------------------------------\n",
    "\n",
    ">Python’s regular expressions are greedy by default, which means that in ambiguous situations they will match the longest string possible. The non-greedy version of the curly brackets, which matches the shortest string possible, has the closing curly bracket followed by a question mark.\n",
    "\n",
    "Know the difference:\n",
    "\n",
    "```python\n",
    "greedyHaRegex = re.compile(r'(Ha){3,5}')\n",
    "```\n",
    "vs\n",
    "```python\n",
    "nongreedyHaRegex = re.compile(r'(Ha){3,5}?')\n",
    "```"
   ]
  },
  {
   "cell_type": "markdown",
   "metadata": {},
   "source": [
    "# Character classes\n",
    "---------------------------------------\n",
    "* \\d - Any numeric digit from 0 to 9.\n",
    "\n",
    "* \\D - Any character that is not a numeric digit from 0 to 9.\n",
    "\n",
    "* \\w - Any letter, numeric digit, or the underscore character. (Think of this as matching “word” characters.)\n",
    "\n",
    "* \\W - Any character that is not a letter, numeric digit, or the underscore character.\n",
    "\n",
    "* \\s - Any space, tab, or newline character. (Think of this as matching “space” characters.)\n",
    "\n",
    "* \\S - Any character that is not a space, tab, or newline.\n",
    "\n",
    "If you wnat to make your own character class, then use the square brackets:\n",
    "\n",
    "```python\n",
    "vowelRegex = re.compile(r'[aeiouAEIOU]')\n",
    "vowelRegex.findall('Robocop eats baby food. BABY FOOD.')\n",
    "```\n",
    "Task: create a character class, containing all letters (lowercase and uppercase) and the digits from zero to nine."
   ]
  },
  {
   "cell_type": "markdown",
   "metadata": {},
   "source": [
    "# Matching on the beginning/end of the text\n",
    "\n",
    "```python\n",
    "beginsWithHello = re.compile(r'^Hello')\n",
    "endsWithNumber = re.compile(r'\\d$')\n",
    "```\n",
    "\n",
    "Task: Match a text which ends in \"Bye!\" or \"Bye.\""
   ]
  },
  {
   "cell_type": "markdown",
   "metadata": {},
   "source": [
    "# Matching it all\n",
    "----------------------------------------\n",
    "\n",
    "The . (or dot) character in a regular expression is called a wildcard and will match any character except for a newline.\n",
    "\n",
    "```python\n",
    "atRegex = re.compile(r'.at')\n",
    "atRegex.findall('The cat in the hat sat on the flat mat.')\n",
    "```\n",
    "\n",
    "So, we can match everything with .* (dot star) or its non-greedy equivalend .*? (dot star question mark)like this:\n",
    "```python\n",
    "nameRegex = re.compile(r'First Name: (.*) Last Name: (.*)')\n",
    "```\n",
    "Also by passing re.DOTALL as the second argument to re.compile(), you can make the dot character match all characters, including the newline character."
   ]
  },
  {
   "cell_type": "markdown",
   "metadata": {},
   "source": [
    "# Let's be insensitive, case insensitive\n",
    "--------------------------------------------------------\n",
    "\n",
    "To make your regex case-insensitive, you can pass **re.IGNORECASE** or **re.I** as a second argument to re.compile(). \n",
    "\n",
    "Task: Make the batman regexes from the beginning of today's lession case insensitive"
   ]
  },
  {
   "cell_type": "markdown",
   "metadata": {},
   "source": [
    "# Substituting string at a regex match\n",
    "-----------------------------------------------\n",
    "\n",
    ">Regular expressions can not only find text patterns but can also substitute new text in place of those patterns. The sub() method for Regex objects is passed two arguments. The first argument is a string to replace any matches. The second is the string for the regular expression. The sub() method returns a string with the substitutions applied.\n",
    "\n",
    "```python\n",
    "namesRegex = re.compile(r'Agent \\w+')\n",
    "namesRegex.sub('CENSORED', 'Agent Alice gave the secret documents to Agent Bob.')\n",
    "```"
   ]
  },
  {
   "cell_type": "code",
   "execution_count": null,
   "metadata": {
    "collapsed": true
   },
   "outputs": [],
   "source": []
  }
 ],
 "metadata": {
  "kernelspec": {
   "display_name": "Python 3",
   "language": "python",
   "name": "python3"
  },
  "language_info": {
   "codemirror_mode": {
    "name": "ipython",
    "version": 3
   },
   "file_extension": ".py",
   "mimetype": "text/x-python",
   "name": "python",
   "nbconvert_exporter": "python",
   "pygments_lexer": "ipython3",
   "version": "3.6.3"
  }
 },
 "nbformat": 4,
 "nbformat_minor": 2
}
