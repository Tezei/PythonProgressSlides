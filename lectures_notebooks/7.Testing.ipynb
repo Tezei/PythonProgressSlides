{
 "cells": [
  {
   "cell_type": "markdown",
   "metadata": {},
   "source": [
    "# Testing Python Code\n",
    "------------------------------------------------------------------------------------\n",
    "\n",
    "<img src=\"https://achievement-images.teamtreehouse.com/badges-python-testing-stage1.png\" alt=\"Drawing\" style=\"width: 300px;\"/>"
   ]
  },
  {
   "cell_type": "markdown",
   "metadata": {},
   "source": [
    "![](http://blog.plataformatec.com.br/wp-content/uploads/2016/10/test-pyramid.png)"
   ]
  },
  {
   "cell_type": "markdown",
   "metadata": {},
   "source": [
    "# Other testing\n",
    "-----------------------------------------------------\n",
    "\n",
    "\n",
    "* Functional acceptance tests\n",
    "* Usability tests....\n",
    "* Non functional tests - performance, scaling, etc...."
   ]
  },
  {
   "cell_type": "markdown",
   "metadata": {},
   "source": [
    "# Test Driven Development - TDD\n",
    "------------------------------------------------------\n",
    "\n",
    "![](https://joshldavis.com/img/tdd-vs-bdd/tdd-flowchart.png)"
   ]
  },
  {
   "cell_type": "markdown",
   "metadata": {},
   "source": [
    "# Code Coverage\n",
    "--------------------------------------------------------------------------------\n",
    "\n",
    "![](https://docs.plone.org/4/en/_images/coverage.png)"
   ]
  },
  {
   "cell_type": "markdown",
   "metadata": {},
   "source": [
    "# Python  testing taxonomy and handson with unittest\n",
    "-------------------------------------------------"
   ]
  },
  {
   "cell_type": "code",
   "execution_count": null,
   "metadata": {},
   "outputs": [],
   "source": []
  }
 ],
 "metadata": {
  "kernelspec": {
   "display_name": "Python 3",
   "language": "python",
   "name": "python3"
  },
  "language_info": {
   "codemirror_mode": {
    "name": "ipython",
    "version": 3
   },
   "file_extension": ".py",
   "mimetype": "text/x-python",
   "name": "python",
   "nbconvert_exporter": "python",
   "pygments_lexer": "ipython3",
   "version": "3.6.4"
  }
 },
 "nbformat": 4,
 "nbformat_minor": 2
}
