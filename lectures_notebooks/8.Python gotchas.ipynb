{
 "cells": [
  {
   "cell_type": "markdown",
   "metadata": {},
   "source": [
    "## What the........Python?\n",
    "----------------------------------------------------------------------------------\n",
    "\n",
    "![](https://raw.githubusercontent.com/satwikkansal/wtfpython/master/images/logo.png)"
   ]
  },
  {
   "cell_type": "markdown",
   "metadata": {},
   "source": [
    "## Part 1 - Strings hate me\n",
    "-----------------------------------------------------\n",
    "\n",
    "Let's start with something you (may) know.\n",
    "\n",
    "```python\n",
    ">>> a = \"some_string\"\n",
    ">>> id(a)\n",
    "140420665652013\n",
    ">>> id(\"some\" + \"_\" + \"string\") # Notice that both the ids are same.\n",
    "140420665652013\n",
    "```\n",
    "\n",
    "Can you explain it?\n",
    "\n"
   ]
  },
  {
   "attachments": {},
   "cell_type": "markdown",
   "metadata": {},
   "source": [
    "# Strings hate me cont.\n",
    "-------------------------------------------\n",
    "\n",
    "<img style=\"float: right;\" src=\"https://raw.githubusercontent.com/satwikkansal/wtfpython/master/images/string-intern/string_intern.png\" >\n",
    "\n",
    "\n",
    "```python\n",
    ">>> a = \"wtf\"\n",
    ">>> b = \"wtf\"\n",
    ">>> a is b\n",
    "True\n",
    "\n",
    ">>> a = \"wtf!\"\n",
    ">>> b = \"wtf!\"\n",
    ">>> a is b\n",
    "False\n",
    "\n",
    ">>> a, b = \"wtf!\", \"wtf!\"\n",
    ">>> a is b\n",
    "True\n",
    "```"
   ]
  },
  {
   "cell_type": "markdown",
   "metadata": {},
   "source": [
    "# And I hate strings, too....\n",
    "--------------------------------------------------\n",
    "\n",
    "```python\n",
    ">>> 'a' * 20 is 'aaaaaaaaaaaaaaaaaaaa'\n",
    "True\n",
    ">>> 'a' * 21 is 'aaaaaaaaaaaaaaaaaaaaa'\n",
    "False\n",
    "```\n",
    "\n",
    "So why does this happen....CPython string interning. This means that Python tries to reuse existing immutable objects in some cases rather than creating a new object every time.\n",
    "\n",
    "Here are some interning rules:\n",
    "* After being interned, many variables may point to the same string object in memory (thereby saving memory).\n",
    "* All length 0 and length 1 strings are interned.\n",
    "* Strings that are not composed of ASCII letters, digits or underscores, are not interned. This explains why 'wtf!' was not interned due to !\n",
    "* When a and b are set to \"wtf!\" in the same line, the Python interpreter creates a new object, then references the second variable at the same time. If you do it on separate lines, it doesn't \"know\" that there's already wtf! as an object.\n",
    "\n",
    "\n",
    "\n",
    "Warning! Advanced reading delving deeper into the topic can be found [here](http://guilload.com/python-string-interning/) and [also in stackoverflow e.g. here](https://stackoverflow.com/questions/306313/is-operator-behaves-unexpectedly-with-integers)."
   ]
  },
  {
   "cell_type": "markdown",
   "metadata": {},
   "source": [
    "## Part 2: Python destroys Javascript\n",
    "-------------------------------------------------------------------\n",
    "Wait....what...you know this too?\n",
    "\n",
    "```python\n",
    "some_dict = {}\n",
    "some_dict[5.5] = \"Ruby\"\n",
    "some_dict[5.0] = \"JavaScript\"\n",
    "some_dict[5] = \"Python\"\n",
    "```\n",
    "\n",
    "But actually the truth is a bit more complicated and goes a bit deeper:"
   ]
  },
  {
   "cell_type": "markdown",
   "metadata": {},
   "source": [
    "# Part 2: cont.\n",
    "-----------------------------------------------------------------------\n",
    "\n",
    "* Python dictionaries check for equality and compare the hash value to determine if two keys are the same.\n",
    "* Immutable objects with same value always have the same hash in Python. \n",
    "```python\n",
    ">>> 5 == 5.0\n",
    "True\n",
    ">>> hash(5) == hash(5.0)\n",
    "True\n",
    "```"
   ]
  },
  {
   "cell_type": "markdown",
   "metadata": {},
   "source": [
    "## Part 3: The return horror story\n",
    "-----------------------------------------------------\n",
    "\n",
    "```python\n",
    "def some_func():\n",
    "    try:\n",
    "        return 'from_try'\n",
    "    finally:\n",
    "        return 'from_finally'\n",
    "```\n",
    "\n",
    "aaaand the output is:\n",
    "\n",
    "```python\n",
    ">>> some_func()\n",
    "'from_finally'\n",
    "```\n",
    "\n",
    "Here's why:\n",
    "* When a return, break or continue statement is executed in the try suite of a \"try…finally\" statement, the finally clause is also executed ‘on the way out.\n",
    "* The return value of a function is determined by the last return statement executed."
   ]
  },
  {
   "cell_type": "markdown",
   "metadata": {},
   "source": [
    "## Part 4: We're all the same\n",
    "-------------------------------------------\n",
    "```python\n",
    "class Person:\n",
    "  pass\n",
    "```\n",
    "\n",
    "Output\n",
    "```python\n",
    ">>> Person() == Person() # two different instances can't be equal\n",
    "False\n",
    ">>> Person() is Person() # identities are also different\n",
    "False\n",
    ">>> hash(Person()) == hash(Person()) # hashes _should_ be different as well\n",
    "True\n",
    ">>> id(Person()) == id(Person())\n",
    "True\n",
    "```"
   ]
  },
  {
   "cell_type": "markdown",
   "metadata": {},
   "source": [
    "## Part 4: explained\n",
    "--------------------------------------------------\n",
    "* When id was called, Python created a Person class object and passed it to the id function. The id function takes its id (its memory location), and throws away the object. The object is destroyed.\n",
    "\n",
    "* When we do this twice in succession, Python allocates the same memory location to this second object as well. Don't ask, CPython reuse of memory stuff.\n",
    "\n",
    "We can get our explanation but by observing how an object is created/destroyed. Let's define a test snippet:\n",
    "\n",
    "```python\n",
    "class Person(object):\n",
    "  def __init__(self): print(\"I \")\n",
    "  def __del__(self): print(\"D \")\n",
    "```\n",
    "\n",
    "And its output is:\n",
    "```python\n",
    ">>> Person() is Person()\n",
    "I I D D\n",
    ">>> id(Person()) == id(Person())\n",
    "I D I D\n",
    "```"
   ]
  },
  {
   "cell_type": "markdown",
   "metadata": {},
   "source": [
    "## Part 5: it **is** not what it looks like\n",
    "---------------------------------------------------------\n",
    "\n",
    "You know the difference between **is** and **==**, right? Explain the following:\n",
    "```python\n",
    ">>> [] == []\n",
    "True\n",
    ">>> [] is []\n",
    "False\n",
    "```"
   ]
  },
  {
   "cell_type": "markdown",
   "metadata": {},
   "source": [
    "## Part 5: cont.\n",
    "------------------------------------------------------------\n",
    "\n",
    "These two were two empty lists at two different memory locations. But then explain the next WTF situation:\n",
    "\n",
    "```python\n",
    ">>> a = 256\n",
    ">>> b = 256\n",
    ">>> a is b\n",
    "True\n",
    "\n",
    ">>> a = 257\n",
    ">>> b = 257\n",
    ">>> a is b\n",
    "False\n",
    "\n",
    ">>> a = 257; b = 257\n",
    ">>> a is b\n",
    "True\n",
    "```\n",
    "\n",
    "Quoting a Python developer:\n",
    "\n",
    ">The current implementation keeps an array of integer objects for all integers between -5 and 256, when you create an int in that range you just get back a reference to the existing object. So it should be possible to change the value of 1. I suspect the behavior of Python, in this case, is undefined. :-)"
   ]
  },
  {
   "cell_type": "markdown",
   "metadata": {},
   "source": [
    "## Part 6: **is not ...** is not **is (not ...)**\n",
    "----------------------------------------------------------------------------------\n",
    "\n",
    "```python\n",
    ">>> 'something' is not None\n",
    "True\n",
    ">>> 'something' is (not None)\n",
    "False\n",
    "```\n",
    "\n",
    "* is not is a single binary operator, and has behavior different than using is and not separated.\n"
   ]
  },
  {
   "cell_type": "markdown",
   "metadata": {},
   "source": [
    "## Part 7: Follow the right order\n",
    "-------------------------------------------------------\n",
    "\n",
    "```python\n",
    "x = True\n",
    "y = False\n",
    "```\n",
    "\n",
    "```python\n",
    ">>> not x == y\n",
    "True\n",
    ">>> x == not y\n",
    "  File \"<input>\", line 1\n",
    "    x == not y\n",
    "           ^\n",
    "SyntaxError: invalid syntax\n",
    "```\n",
    "\n",
    "* Operator precedence affects how an expression is evaluated, and == operator has higher precedence than not operator in Python."
   ]
  },
  {
   "cell_type": "markdown",
   "metadata": {},
   "source": [
    "## Part 8: Know your quotes\n",
    "----------------------------------------\n",
    "\n",
    "```python\n",
    ">>> print('hipython''')\n",
    "hipython\n",
    ">>> print(\"hopython\"\"\")\n",
    "hipython\n",
    ">>> # The following statements raise `SyntaxError`\n",
    ">>> # print('''hipython')\n",
    ">>> # print(\"\"\"hipython\")\n",
    "```\n",
    "\n",
    "* The first example works because Python has this thing called implicit literal concatenation e.g.:\n",
    "\n",
    "```python\n",
    "print(\"hi\" \"python\") #works\n",
    "```"
   ]
  },
  {
   "cell_type": "markdown",
   "metadata": {},
   "source": [
    "## Part 9: Classes are hairy\n",
    "--------------------------------------------------------\n",
    "\n",
    "```python\n",
    "class A:\n",
    "    x = 1\n",
    "\n",
    "class B(A):\n",
    "    pass\n",
    "\n",
    "class C(A):\n",
    "    pass\n",
    "```\n",
    "\n",
    "Output:\n",
    "    \n",
    "```python\n",
    ">>> A.x, B.x, C.x\n",
    "(1, 1, 1)\n",
    ">>> B.x = 2\n",
    ">>> A.x, B.x, C.x\n",
    "(1, 2, 1)\n",
    ">>> A.x = 3\n",
    ">>> A.x, B.x, C.x\n",
    "(3, 2, 3)\n",
    ">>> a = A()\n",
    ">>> a.x, A.x\n",
    "(3, 3)\n",
    ">>> a.x += 1\n",
    ">>> a.x, A.x\n",
    "(4, 3)\n",
    "```"
   ]
  },
  {
   "cell_type": "markdown",
   "metadata": {},
   "source": [
    "## Part 10: You never know(Python 2.7 only but nice to fix some legacy bugs)\n",
    "-------------------------------------------------\n",
    "\n",
    "```python\n",
    "True = False\n",
    "if True == False:\n",
    "    print(\"I've lost faith in truth!\")\n",
    "```\n",
    "\n",
    "Self explanatory,heh?"
   ]
  },
  {
   "cell_type": "markdown",
   "metadata": {},
   "source": [
    "## The dessert\n",
    "-------------------------------------\n",
    "\n",
    "```python\n",
    ">>> value = 11\n",
    ">>> valuе = 32\n",
    ">>> value\n",
    "11\n",
    "```"
   ]
  },
  {
   "cell_type": "code",
   "execution_count": null,
   "metadata": {},
   "outputs": [],
   "source": []
  }
 ],
 "metadata": {
  "kernelspec": {
   "display_name": "Python 3",
   "language": "python",
   "name": "python3"
  },
  "language_info": {
   "codemirror_mode": {
    "name": "ipython",
    "version": 3
   },
   "file_extension": ".py",
   "mimetype": "text/x-python",
   "name": "python",
   "nbconvert_exporter": "python",
   "pygments_lexer": "ipython3",
   "version": "3.6.4"
  }
 },
 "nbformat": 4,
 "nbformat_minor": 2
}
