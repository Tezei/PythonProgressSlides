{
 "cells": [
  {
   "cell_type": "markdown",
   "metadata": {
    "slideshow": {
     "slide_type": "slide"
    }
   },
   "source": [
    "# Python 101\n",
    "--------------------------------\n",
    "Evgeni Enchev\n",
    "\n",
    "<img src=\"https://www.python.org/static/community_logos/python-logo-inkscape.svg\" />"
   ]
  },
  {
   "cell_type": "markdown",
   "metadata": {
    "slideshow": {
     "slide_type": "slide"
    }
   },
   "source": [
    "\n",
    "<img src=\"https://memegenerator.net/img/instances/500x/76481186/make-programming-great-again.jpg\" />"
   ]
  },
  {
   "cell_type": "markdown",
   "metadata": {
    "slideshow": {
     "slide_type": "slide"
    }
   },
   "source": [
    "## Why Python\n",
    "\n",
    "--------------------------------\n",
    "\n",
    "\n",
    "\n",
    "Python: \n",
    "```python\n",
    "print(\"Hi Progress Students!\")\n",
    "```\n",
    "\n",
    "Java: \n",
    "\n",
    "```java\n",
    "public class HelloWorld {\n",
    "    public static void main(String[] args) {\n",
    "        System.out.println(\"Hi Progress Students!\");\n",
    "    }\n",
    "}\n",
    "```"
   ]
  },
  {
   "cell_type": "code",
   "execution_count": 1,
   "metadata": {
    "slideshow": {
     "slide_type": "subslide"
    }
   },
   "outputs": [
    {
     "name": "stdout",
     "output_type": "stream",
     "text": [
      "2\n"
     ]
    }
   ],
   "source": [
    "print(1+1)"
   ]
  },
  {
   "cell_type": "markdown",
   "metadata": {
    "slideshow": {
     "slide_type": "subslide"
    }
   },
   "source": [
    "## Runs on Everything\n",
    "--------------------------------\n",
    "   <table style=\"border-collapse: collapse; border:none; outline:none\">\n",
    "   <tr style=\"border-collapse: collapse; border:none; outline:none\">\n",
    "    <td style=\"border-collapse: collapse; border:none\"> <img src=\"https://cdn.instructables.com/F2I/ISJ4/HGZNX326/F2IISJ4HGZNX326.MEDIUM.jpg\" width=\"300\" height=\"700\"  /> </td>\n",
    "    <td style=\"border-collapse: collapse; border:none; outline:none\"> <img src=\"https://support.apple.com/library/content/dam/edam/applecare/images/en_US/osx/elcapitan-system-integration-protection-hero.jpg\"  width=\"300\" height=\"700\" /> </td>\n",
    "    </tr>\n",
    "   </table>"
   ]
  },
  {
   "cell_type": "markdown",
   "metadata": {
    "collapsed": true,
    "slideshow": {
     "slide_type": "subslide"
    }
   },
   "source": [
    "## Philosophy of Python\n",
    "--------------------------------\n",
    "```python\n",
    "IN: import this\n",
    "```\n",
    "```\n",
    "The Zen of Python, by Tim Peters\n",
    "\n",
    "Beautiful is better than ugly.\n",
    "Explicit is better than implicit.\n",
    "```\n",
    "**\n",
    "`\n",
    "Simple is better than complex.\n",
    "Complex is better than complicated.\n",
    "Flat is better than nested.\n",
    "`\n",
    "**\n",
    "```\n",
    "Sparse is better than dense.\n",
    "Readability counts.\n",
    "Special cases aren't special enough to break the rules.\n",
    "Although practicality beats purity.\n",
    "Errors should never pass silently.\n",
    "Unless explicitly silenced.\n",
    "In the face of ambiguity, refuse the temptation to guess.\n",
    "There should be one-- and preferably only one --obvious way to do it.\n",
    "Although that way may not be obvious at first unless you're Dutch.\n",
    "Now is better than never.\n",
    "Although never is often better than *right* now.\n",
    "```\n",
    "**\n",
    "`\n",
    "If the implementation is hard to explain, it's a bad idea.\n",
    "If the implementation is easy to explain, it may be a good idea.\n",
    "`\n",
    "**\n",
    "```\n",
    "Namespaces are one honking great idea -- let's do more of those!\n",
    "```"
   ]
  },
  {
   "cell_type": "markdown",
   "metadata": {
    "slideshow": {
     "slide_type": "slide"
    }
   },
   "source": [
    "# Python real life use cases"
   ]
  },
  {
   "cell_type": "markdown",
   "metadata": {
    "slideshow": {
     "slide_type": "slide"
    }
   },
   "source": [
    "## Installation\n",
    "--------------------------------\n",
    "\n",
    "Just visit <a href=\"https://www.python.org/\">Python's official website</a> and follow the instructions.\n",
    "\n",
    "<img src=\"https://cdn.scotch.io/1/fouULxS2Tziwrc3nH7f5_1QdxZ3U.png\" width=\"900\" height=\"600\"  />"
   ]
  },
  {
   "cell_type": "markdown",
   "metadata": {
    "slideshow": {
     "slide_type": "slide"
    }
   },
   "source": [
    "## Two latest versions? Whaaat?\n",
    "--------------------------------\n",
    "\n",
    "* Unicode is now the default option for strings.\n",
    "* Print and exec were statements, now expressions.\n",
    "* Better division.\n",
    "* No more long type.\n",
    "\n",
    "* Which is better? Which one do I need? Can I run them both?\n",
    "* Useful tools: 2to3, 3to2, six"
   ]
  },
  {
   "cell_type": "markdown",
   "metadata": {
    "slideshow": {
     "slide_type": "slide"
    }
   },
   "source": [
    "# IDE's"
   ]
  },
  {
   "cell_type": "markdown",
   "metadata": {
    "slideshow": {
     "slide_type": "subslide"
    }
   },
   "source": [
    "## The console itself or every text editor\n",
    "--------------------------------\n",
    "\n",
    "<img src=\"http://www.csestack.org/wp-content/uploads/2016/05/Clear-Python-Interpreter-Console.jpg\" />"
   ]
  },
  {
   "cell_type": "markdown",
   "metadata": {
    "slideshow": {
     "slide_type": "subslide"
    }
   },
   "source": [
    "## VIM\n",
    "--------------------------------\n",
    "\n",
    "<img src=\"https://qph.ec.quoracdn.net/main-qimg-328ece429bf31e38e5433497010a3e97\" />"
   ]
  },
  {
   "cell_type": "markdown",
   "metadata": {
    "slideshow": {
     "slide_type": "subslide"
    }
   },
   "source": [
    "## IDLE - bundled with your Python installation\n",
    "--------------------------------\n",
    "\n",
    "<img src=\"http://echorand.me/site/notes/_images/shell_window.png\" />\n"
   ]
  },
  {
   "cell_type": "markdown",
   "metadata": {
    "slideshow": {
     "slide_type": "subslide"
    }
   },
   "source": [
    "## Visual Studio Code - my favourite\n",
    "--------------------------------\n",
    "<img src=\"https://coraxx.net/external/easydarkdimm.gif\" />"
   ]
  },
  {
   "cell_type": "markdown",
   "metadata": {
    "slideshow": {
     "slide_type": "subslide"
    }
   },
   "source": [
    "# Thonny"
   ]
  },
  {
   "cell_type": "markdown",
   "metadata": {
    "slideshow": {
     "slide_type": "slide"
    }
   },
   "source": [
    "# Some useful links before we continue\n",
    "------------------------------------\n",
    "* <a href=\"https://www.python.org/about/gettingstarted/\">Python's official website.</a>\n",
    "\n",
    "* <a href=\"https://docs.python.org/3/\">Python's official documentation. You can skip it for now.</a>\n",
    "\n",
    "* <a href=\"https://stackoverflow.com/\">The place to find answer to all your questions</a>\n",
    "\n",
    "* <a href=\"https://www.codewars.com/\">Got skillz? Challenge yourself here.</a>\n",
    "\n",
    "* <a href=\"https://www.reddit.com/r/learnpython/\">Useful newsboard and forum.</a>\n",
    "\n",
    "* <a href=\"https://twitter.com/gvanrossum\"> Also Raymond? All the pros are on twitter. Find and catch them all.</a>"
   ]
  },
  {
   "cell_type": "markdown",
   "metadata": {
    "slideshow": {
     "slide_type": "slide"
    }
   },
   "source": [
    "# Let's dive in\n",
    "---------------------------------------------------------\n",
    "\n",
    "<img src=\"https://blog.liquidspace.com/wp-content/uploads/2012/03/dive.png\" />\n"
   ]
  },
  {
   "cell_type": "markdown",
   "metadata": {
    "slideshow": {
     "slide_type": "slide"
    }
   },
   "source": [
    "# Comments in code\n",
    "---------------------------------------------------------\n",
    "* Not part of the program code - just notes for us or other programmers.\n",
    "* Use the `#`"
   ]
  },
  {
   "cell_type": "markdown",
   "metadata": {
    "slideshow": {
     "slide_type": "slide"
    }
   },
   "source": [
    "# Variables\n",
    "---------------------------------------------------------------------------\n",
    "```python\n",
    "IN: a = 5 \\\n",
    "    print(a)\n",
    "OUT: 5\n",
    "```"
   ]
  },
  {
   "cell_type": "markdown",
   "metadata": {
    "slideshow": {
     "slide_type": "slide"
    }
   },
   "source": [
    "# Getting user input\n",
    "----------------------------------------------------------------------------\n",
    "```python\n",
    "IN: name = input(\"What's your name? \\n\") \\\n",
    "    print(a)\n",
    "```"
   ]
  },
  {
   "cell_type": "markdown",
   "metadata": {
    "slideshow": {
     "slide_type": "slide"
    }
   },
   "source": [
    "# Python Primitive Data Types\n",
    "-----------------------------------------------------------------------------\n",
    "* Boolean: `True` or `False`.\n",
    "<img style=\"float: right;width:200px;height:200px;\" src=\"https://www.vuheart.com/image/cache/data/halloween-costume/halloween-costume0603-153-800x800.jpg\" >\n",
    "* Numbers: Integers, Float(decimals), fractions and complex numbers.\n",
    "* Strings: sequence of Unicode characters.\n",
    "* Bytes\n",
    "* ......"
   ]
  },
  {
   "cell_type": "markdown",
   "metadata": {
    "slideshow": {
     "slide_type": "subslide"
    }
   },
   "source": [
    "## Checking type\n",
    "------------------------------------------------------------\n",
    "\n",
    "```python\n",
    "IN: a = 5 \\\n",
    "    print(type(a))\n",
    "OUT: <class 'int'>\n",
    "```"
   ]
  },
  {
   "cell_type": "markdown",
   "metadata": {
    "slideshow": {
     "slide_type": "subslide"
    }
   },
   "source": [
    "## Type conversion\n",
    "---------------------------------------------------------------\n",
    "```python\n",
    "IN: a = 5 \\\n",
    "    b = \"Number: \"\n",
    "    print(b + str(a))\n",
    "OUT: Number: 5\n",
    "```"
   ]
  },
  {
   "cell_type": "markdown",
   "metadata": {
    "slideshow": {
     "slide_type": "slide"
    }
   },
   "source": [
    "# Lists\n",
    "-----------------------------------------------\n",
    "<img style=\"float: right;width:220px;height:200px;\" src=\"http://blog.enjoycss.com/wp-content/uploads/2015/09/woman-making-list.jpg\" >\n",
    "\n",
    "```python\n",
    "IN: students = [\"Ivan\", \"Maria\", \"Pesho\"]\n",
    "    print(students[0])\n",
    "OUT: Ivan\n",
    "```\n",
    "\n",
    "* append, extend, index, insert, remove, sort, reverse, pop"
   ]
  },
  {
   "cell_type": "markdown",
   "metadata": {
    "slideshow": {
     "slide_type": "slide"
    }
   },
   "source": [
    "# Operators and statements\n",
    "------------------------------------------\n",
    "```python\n",
    "IN: print(3+4)\n",
    "OUT: 7\n",
    "```\n",
    "* The `+` is the operator. Introduces functionality that can be expressed by symbols.\n",
    "* `3` and `4` are the operands. They are the data on which the operator operates.\n",
    "* `print(3+4)` is a statement - a complete line of code which does something.\n",
    "\n"
   ]
  },
  {
   "cell_type": "markdown",
   "metadata": {
    "slideshow": {
     "slide_type": "subslide"
    }
   },
   "source": [
    "## Evaluation order and associativity\n",
    "----------------------------------------------\n",
    "* If not sure check precedence on Google!\n",
    "* Operators are usually associated from left to right. This means that operators with the same precedence are evaluated in a left to right manner. For example, 2 + 3 + 4 is evaluated as (2 + 3) + 4.\n",
    "\n"
   ]
  },
  {
   "cell_type": "markdown",
   "metadata": {
    "slideshow": {
     "slide_type": "slide"
    }
   },
   "source": [
    "\n",
    "<img src=\"https://i.ytimg.com/vi/LLpIMRowndg/maxresdefault.jpg\" />\n"
   ]
  },
  {
   "cell_type": "markdown",
   "metadata": {
    "slideshow": {
     "slide_type": "slide"
    }
   },
   "source": [
    "# Expressions\n",
    "-------------------------------------------\n",
    "\n",
    "* Section of code that evaluates to a value.\n",
    "\n",
    "```python\n",
    "IN: round(2.7)\n",
    "OUT: 3\n",
    "```"
   ]
  },
  {
   "cell_type": "code",
   "execution_count": null,
   "metadata": {
    "collapsed": true
   },
   "outputs": [],
   "source": []
  }
 ],
 "metadata": {
  "celltoolbar": "Slideshow",
  "kernelspec": {
   "display_name": "Python 3",
   "language": "python",
   "name": "python3"
  },
  "language_info": {
   "codemirror_mode": {
    "name": "ipython",
    "version": 3
   },
   "file_extension": ".py",
   "mimetype": "text/x-python",
   "name": "python",
   "nbconvert_exporter": "python",
   "pygments_lexer": "ipython3",
   "version": "3.6.3"
  }
 },
 "nbformat": 4,
 "nbformat_minor": 2
}
