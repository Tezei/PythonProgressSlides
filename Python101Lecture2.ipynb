{
 "cells": [
  {
   "cell_type": "markdown",
   "metadata": {
    "slideshow": {
     "slide_type": "slide"
    }
   },
   "source": [
    "# Let's recap \n",
    "-------------------------------------------------------\n",
    "\n",
    "* Variables\n",
    "* Assigning variables to user input\n",
    "* Variable Types\n",
    "* Getting the type of a variable\n",
    "* Type casting(conversion). Let's also introduce *ord()* now.\n",
    "* Print\n",
    "* Comments\n",
    "* IMPORTANT: Operator precedence and associativity"
   ]
  },
  {
   "cell_type": "markdown",
   "metadata": {
    "slideshow": {
     "slide_type": "slide"
    }
   },
   "source": [
    "# Sort() vs sorted()\n",
    "----------------------------------------------------------------\n",
    "\n",
    "list.sort() | sorted(list)\n",
    "------------ | -------------\n",
    "Sorts the list in place | Returns new sorted list"
   ]
  },
  {
   "cell_type": "markdown",
   "metadata": {
    "slideshow": {
     "slide_type": "slide"
    }
   },
   "source": [
    "# Other operations on lists\n",
    "-------------------------------------------------------------------------\n",
    "\n",
    "```python\n",
    "IN: list = [\"One\", \"Two\", \"Three\", \"Four\"]\n",
    "    del list[2]\n",
    "```\n",
    "What happens if you try to delete an element at non-existing index? "
   ]
  },
  {
   "cell_type": "markdown",
   "metadata": {
    "slideshow": {
     "slide_type": "subslide"
    }
   },
   "source": [
    "## Basic error handling\n",
    "------------------------------------------------------------------\n",
    "\n",
    "<img style=\"float: right;width:200px;height:200px;\" src=\"https://blog.sqlauthority.com/i/a/errorstop.png\" >\n",
    "```python\n",
    "IN: list = [\"One\", \"Two\", \"Three\", \"Four\"]\n",
    "    try:\n",
    "        del list[24]\n",
    "    except:\n",
    "        print(\"There's no element at that index.\")\n",
    "```\n"
   ]
  },
  {
   "cell_type": "markdown",
   "metadata": {
    "slideshow": {
     "slide_type": "subslide"
    }
   },
   "source": [
    " * ```python\n",
    "IN: list = [\"One\", \"Two\", \"Three\", \"Four\"]\n",
    "    list2 = [\"Five\", \"Six\", \"Seven\"]\n",
    "    print(list1+list2)\n",
    "    print(\"One\" in list)\n",
    "    print(\"One\" in list2)\n",
    "    print(list*3)\n",
    "    print(len(list))\n",
    "```\n",
    " * ```python\n",
    "IN: list = [1, 2, 4, 6]\n",
    "    print(max(list))\n",
    "    print(min(list))\n",
    "    print(list[-2])\n",
    "    print(list[-1:0])\n",
    "    print(list*3)\n",
    "    print(len(list))\n",
    "```"
   ]
  },
  {
   "cell_type": "markdown",
   "metadata": {
    "slideshow": {
     "slide_type": "slide"
    }
   },
   "source": [
    "# Small hands on: returning the remainder of a division\n",
    "-----------------------------------------------------------------------------------------\n"
   ]
  },
  {
   "cell_type": "markdown",
   "metadata": {
    "slideshow": {
     "slide_type": "subslide"
    }
   },
   "source": [
    "## Try yourself and work with documentation\n",
    "-------------------------------------------------------------------\n",
    "\n",
    "*  \tlist.append(obj)\n",
    "Appends object obj to list\n",
    "* \tlist.count(obj)\n",
    "Returns count of how many times obj occurs in list\n",
    "* list.extend(seq)\n",
    "Appends the contents of seq to list\n",
    "* list.index(obj)\n",
    "Returns the lowest index in list that obj appears\n",
    "*  \tlist.insert(index, obj)\n",
    "Inserts object obj into list at offset index\n",
    "*  \tlist.remove(obj)\n",
    "Removes the first occurance of object obj from list"
   ]
  },
  {
   "cell_type": "markdown",
   "metadata": {
    "slideshow": {
     "slide_type": "subslide"
    }
   },
   "source": [
    "## Something cool from Python 3\n",
    "-------------------------------------------------------------\n",
    "\n",
    "![Snoop Dog](http://bocktherobber.com.cdn.ie/wordpress/wp-content/uploads/2013/04/snoop-dogg_2.jpg)\n"
   ]
  },
  {
   "cell_type": "markdown",
   "metadata": {
    "slideshow": {
     "slide_type": "subslide"
    }
   },
   "source": [
    "## List unpacking \n",
    "--------------------------------------------------------------------------\n",
    "\n",
    "```python\n",
    "IN: data = [\"Elena\", \"Burgas\", 22, True]\n",
    "    name, city, age, married = data\n",
    "    first_name, *other = data\n",
    "```\n",
    "Try printing the variables now"
   ]
  },
  {
   "cell_type": "markdown",
   "metadata": {
    "slideshow": {
     "slide_type": "slide"
    }
   },
   "source": [
    "# *print* -ing needs to be fancier too\n",
    "--------------------------------------------------------------------------------\n",
    "\n",
    "```python\n",
    "IN: print(\"Sammy has {0:4} red {1:16}!\".format(5, \"balloons\")) #Aligning\n",
    "    print(\"Evgeni ate {0:f} percent of a {1}!\".format(75, \"pizza\")) # Next examples show more advanced formatting\n",
    "    print(\"Evgeni ate {0:.3f} percent of a pizza!\".format(75.765367))\n",
    "    print(\"Evgeni ate {0:.1f} percent of a pizza!\".format(75.765367))\n",
    "    print(\"Evgeni ate {0:d} percent of a pizza!\".format(75.765367)) #Float to integer conversion does not work this way\n",
    "    print(\"Evgeni ate {0:.0f} percent of a pizza!\".format(75.765367)) #Workaround for that. Still an iteger!\n",
    "```\n",
    "\n",
    "\n"
   ]
  },
  {
   "cell_type": "markdown",
   "metadata": {
    "slideshow": {
     "slide_type": "slide"
    }
   },
   "source": [
    "# Dictionaries \n",
    "-----------------------------------------------------------------------\n",
    "\n",
    "* Key value pairs\n",
    "* Key must be *string, number or tuple*\n",
    "\n",
    "```python\n",
    "    pesho = {'Name': 'Pesho', 'Age': 7, 'Grade': \"Third\"}\n",
    "    pesho['Age'] = 8; # Update existing entry\n",
    "    pesho['School'] = \"Some school\"; # Add new entry\n",
    "\n",
    "    print(\"pesho['Age']: {0}\".format(dict['Age']))\n",
    "    print(\"pesho['School']: {0}\".format(dict['School']))\n",
    "```"
   ]
  },
  {
   "cell_type": "markdown",
   "metadata": {
    "slideshow": {
     "slide_type": "subslide"
    }
   },
   "source": [
    "## del dict, del dict[\"some_key\"], dict.clear()\n",
    "-------------------------------------------------------------------------------------"
   ]
  },
  {
   "cell_type": "markdown",
   "metadata": {
    "slideshow": {
     "slide_type": "slide"
    }
   },
   "source": [
    "# Let's learn something new: Sets\n",
    "\n",
    "The set is an unordered collection of unique and immutable objects. \n",
    "Don't mind the **immutability** part for now.\n",
    "\n",
    "```python\n",
    "IN: x = set([\"Perl\", \"Python\", \"Java\", \"Python\"])\n",
    "    print(x)\n",
    "```"
   ]
  },
  {
   "cell_type": "markdown",
   "metadata": {
    "slideshow": {
     "slide_type": "slide"
    }
   },
   "source": [
    "## Sets - Union(|), Intersection(&), Difference(-)\n",
    "\n",
    "\n",
    "![Overlapping Circles](http://jwilson.coe.uga.edu/EMAT6680Su12/Carreras/EMAT6690/Essay2/circles[1].JPG)"
   ]
  },
  {
   "cell_type": "markdown",
   "metadata": {
    "slideshow": {
     "slide_type": "slide"
    }
   },
   "source": [
    "# Code formatting PEP8 - ** tabs vs spaces **\n",
    "-------------------------------------------------------------------------\n",
    "\n",
    "[![Tabs vs spaces](http://img.youtube.com/vi/SsoOG6ZeyUI/0.jpg)](https://www.youtube.com/watch?v=SsoOG6ZeyUI \"Tabs vs Spaces\")"
   ]
  },
  {
   "cell_type": "markdown",
   "metadata": {
    "slideshow": {
     "slide_type": "subslide"
    }
   },
   "source": [
    "## More PEP 8\n",
    "\n",
    "[Learn PEP8 from here, believe me](http://pymbook.readthedocs.io/en/latest/pep8.html)\n",
    "\n",
    "[Homework: understand linters and PyLint](https://github.com/PyCQA/pylint)\n",
    "\n",
    "[Homework: Flake8](http://flake8.pycqa.org/en/latest/)\n",
    "\n"
   ]
  },
  {
   "cell_type": "markdown",
   "metadata": {
    "slideshow": {
     "slide_type": "slide"
    }
   },
   "source": [
    "# Functions - just pieces of reusable functionality(code)\n",
    "---------------------------------------------------------------------------------------\n",
    "\n",
    "```python\n",
    "IN: def printme(str):\n",
    "        print(str)\n",
    "        return\n",
    "```\n",
    "* Create a function which calculates the area of a circle\n",
    "* Let's debug a function"
   ]
  },
  {
   "cell_type": "markdown",
   "metadata": {
    "slideshow": {
     "slide_type": "slide"
    }
   },
   "source": [
    "## The range function\n",
    "----------------------------------------------------------------\n",
    "\n",
    "```python\n",
    "IN: years = range(2005,2012,2)\n",
    "    print(years)\n",
    "```"
   ]
  },
  {
   "cell_type": "markdown",
   "metadata": {
    "slideshow": {
     "slide_type": "slide"
    }
   },
   "source": [
    "# Control Flow\n",
    "-----------------------------------------------------------\n",
    "\n",
    "* I told you programs are always executed top-down. Well, I lied :)\n",
    "* Let's see how we can implement a number guessing game.\n",
    "```python\n",
    "IN:   number = 23\n",
    "        guess = int(input('Enter an integer : '))\n",
    "\n",
    "        if guess == number:\n",
    "            print('Congratulations, you guessed it. No prizes this time :)')\n",
    "        elif guess < number:\n",
    "            print('No, it is a little higher than that')\n",
    "        else:\n",
    "            print('No, it is a little lower than that')\n",
    "        print('Done')\n",
    "```\n",
    "* No *switch* statement in Python."
   ]
  },
  {
   "cell_type": "markdown",
   "metadata": {
    "slideshow": {
     "slide_type": "slide"
    }
   },
   "source": [
    "# Exercise on what we've learned \n",
    "-----------------------------------------------------------------\n",
    "Create a separate Python program for each of the following tasks:\n",
    "\n",
    "* return \"Odd\" for odd numbers and \"Even\" for even\n",
    "* check if the last element of a list in bigger than ten\n",
    "* check if the length of a list is bigger than X. X is taken from user input\n",
    "* create a new list containing the numbers from X to Y. X and Y are taken from user input\n",
    "* check if a string is a palindrome or not\n",
    "\n",
    "\n",
    "Try to contain the separate logical blocks of code in functions"
   ]
  },
  {
   "cell_type": "markdown",
   "metadata": {
    "slideshow": {
     "slide_type": "subslide"
    }
   },
   "source": [
    "## Pause for some trivia: Why is it called Python?\n",
    "------------------------------------------\n",
    "\n",
    " <form>\n",
    "  <input type=\"checkbox\" name=\"vehicle\" value=\"Bike\"> That big snake.<br>\n",
    "  <input type=\"checkbox\" name=\"vehicle\" value=\"Car\"> Something else.<br>\n",
    "</form> "
   ]
  },
  {
   "cell_type": "markdown",
   "metadata": {
    "slideshow": {
     "slide_type": "subslide"
    }
   },
   "source": [
    "## *while* statement\n",
    "----------------------------------------------------\n",
    "\n",
    "```python\n",
    "IN:     number = 23\n",
    "        running = True\n",
    "\n",
    "        while running:\n",
    "            guess = int(input('Enter an integer : '))\n",
    "            if guess == number:\n",
    "                print('Congratulations, you guessed it.')\n",
    "                running = False\n",
    "            elif guess < number:\n",
    "                print('No, it is a little higher than that.')\n",
    "            else:\n",
    "                print('No, it is a little lower than that.')\n",
    "        else:\n",
    "            print('The while loop is over.')\n",
    "   \n",
    "        print('Done')\n",
    "```\n",
    "\n",
    "* Implement the factorial function with while"
   ]
  },
  {
   "cell_type": "markdown",
   "metadata": {
    "slideshow": {
     "slide_type": "subslide"
    }
   },
   "source": [
    "## Recursion\n",
    "-------------------------------------------------------------------\n",
    "\n",
    "* Show why recursion can be tricky - factorial and fibonacci examples\n",
    "\n",
    "```python\n",
    "IN: def factorial(n):                            IN: def fib(n):        \n",
    "        if n == 1:                                       if n == 0:\n",
    "            return 1                                         return 0\n",
    "        else:                                            elif n == 1:\n",
    "            return n * factorial(n-1)                        return 1\n",
    "                                                         else:\n",
    "    print(factorial(10))                                     return fib(n-1) + fib(n-2)\n",
    "                \n",
    "```"
   ]
  },
  {
   "cell_type": "markdown",
   "metadata": {
    "slideshow": {
     "slide_type": "subslide"
    }
   },
   "source": [
    "\n",
    "## *break* statement\n",
    "---------------------------------------------------\n",
    "\n",
    "* Break out of a loop statement i.e. stop the execution of a looping statement, even if the loop condition has not become False or the sequence of items has not been completely iterated over.\n",
    "\n",
    "```python\n",
    "IN:     while True:\n",
    "            s = input('Enter something : ')\n",
    "            if s == 'quit':\n",
    "                break\n",
    "            print('Length of the string is', len(s))\n",
    "        print('Done')\n",
    "```"
   ]
  },
  {
   "cell_type": "markdown",
   "metadata": {
    "slideshow": {
     "slide_type": "subslide"
    }
   },
   "source": [
    "## *for* statement\n",
    "----------------------------------------------------\n",
    "\n",
    "```python\n",
    "IN: for i in range(1, 5):\n",
    "        print(i)\n",
    "    print('The for loop is over')\n",
    "```"
   ]
  },
  {
   "cell_type": "markdown",
   "metadata": {
    "slideshow": {
     "slide_type": "subslide"
    }
   },
   "source": [
    "## Iterative factorial with for\n",
    "---------------------------------------------------------------\n",
    "\n",
    "```python\n",
    "IN: def factorial(num):\n",
    "        product = 1\n",
    "        for i in range(num):\n",
    "            product *=   i + 1\n",
    "        return product\n",
    "```\n",
    "\n",
    "* Let's rewrite the fibonacci iteratively together"
   ]
  },
  {
   "cell_type": "markdown",
   "metadata": {
    "slideshow": {
     "slide_type": "subslide"
    }
   },
   "source": [
    "## Iterating over lists\n",
    "\n",
    "```python\n",
    "IN: a = [3,4,5,6]\n",
    "    for i, val in enumerate(a):\n",
    "       print i, val\n",
    "```"
   ]
  },
  {
   "cell_type": "markdown",
   "metadata": {
    "slideshow": {
     "slide_type": "subslide"
    }
   },
   "source": [
    "## Iterating over dictionaries\n",
    "\n",
    "```python\n",
    "IN: d = {'Number': '3', 'Name': 'Ivan'} \n",
    "    for k,v in d.items():\n",
    "         print(k, 'corresponds to', v)\n",
    "```\n",
    "\n",
    "* Bonus: dict.update()"
   ]
  },
  {
   "cell_type": "markdown",
   "metadata": {
    "slideshow": {
     "slide_type": "subslide"
    }
   },
   "source": [
    "## *continue* statement\n",
    "-------------------------------------------------------\n",
    "\n",
    "```python\n",
    "IN:  for my_var in range(0,100):\n",
    "        if my_var < 10:\n",
    "            continue\n",
    "        elif my_var == 10:\n",
    "            print(\"hit\")\n",
    "        elif my_var > 10:\n",
    "            print(\"passed\")\n",
    "```"
   ]
  },
  {
   "cell_type": "markdown",
   "metadata": {
    "slideshow": {
     "slide_type": "subslide"
    }
   },
   "source": [
    "## *pass* statement(keyword)\n",
    "\n",
    "```python\n",
    "IN: def test():\n",
    "OUT:  ^\n",
    "SyntaxError: unexpected EOF while parsing\n",
    "```\n",
    "Compare:\n",
    "\n",
    "```python\n",
    "IN: def test():\n",
    "        pass\n",
    "OUT:\n",
    "```\n",
    "* Useful for testing/stubbing when you want to have some skeleton but don't want to implement the functionality just yet. "
   ]
  },
  {
   "cell_type": "markdown",
   "metadata": {
    "slideshow": {
     "slide_type": "slide"
    }
   },
   "source": [
    "## Almost there with the basics....not\n",
    "----------------------------------------------------\n",
    "\n",
    "* But first let's learn how to sort a list(not being lazy and using the clever function).\n",
    "![Mr Bean at the finish line](http://i.dailymail.co.uk/i/pix/2012/07/28/article-2180052-143FD5AA000005DC-146_964x529.jpg)\n"
   ]
  },
  {
   "cell_type": "markdown",
   "metadata": {
    "slideshow": {
     "slide_type": "subslide"
    }
   },
   "source": [
    "## Two bubble sorts\n",
    "-----------------------------------------------------\n",
    "```python\n",
    "IN: def bubble_sort(l):\n",
    "        for passes_left in range(len(l)-1, 0, -1):\n",
    "            for index in range(passes_left):\n",
    "                if l[index] < l[index + 1]:\n",
    "                   l[index], l[index + 1] = l[index + 1], l[index]\n",
    "        return l\n",
    "```\n",
    "![Bubble sort](https://upload.wikimedia.org/wikipedia/commons/c/c8/Bubble-sort-example-300px.gif)"
   ]
  },
  {
   "cell_type": "code",
   "execution_count": 1,
   "metadata": {
    "slideshow": {
     "slide_type": "subslide"
    }
   },
   "outputs": [
    {
     "name": "stdout",
     "output_type": "stream",
     "text": [
      "[3, 6, 8, 12]\n"
     ]
    }
   ],
   "source": [
    "badList = [12,3,8,6]\n",
    "length = len(badList)-1\n",
    "sorted = False\n",
    "\n",
    "while not sorted:\n",
    "    sorted = True\n",
    "    for element in range(0, length):\n",
    "        if badList[element] > badList[element + 1]:\n",
    "            sorted = False \n",
    "            hold = badList[element + 1]\n",
    "            badList[element + 1] = badList[element]\n",
    "            badList[element] = hold\n",
    "            \n",
    "print(badList)"
   ]
  },
  {
   "cell_type": "markdown",
   "metadata": {
    "slideshow": {
     "slide_type": "slide"
    }
   },
   "source": [
    "# File operations\n",
    "-------------------------------------------------------------------\n",
    "![Files](https://users.soe.ucsc.edu/~charlie/book/notes/chap10/img003.gif)"
   ]
  },
  {
   "cell_type": "markdown",
   "metadata": {
    "slideshow": {
     "slide_type": "subslide"
    }
   },
   "source": [
    "```python\n",
    "IN: f = open(“workfile”,”w”) \n",
    "    all_text = f.read()\n",
    "    all_lines = f.readlines()\n",
    "    line = f.readline()\n",
    "    f.close()\n",
    "    f.closed\n",
    "```\n",
    "Modes:\n",
    "\n",
    "   * ‘r’ – The default open mode. Read mode which is used when the file is only being read \n",
    "   * ‘w’ – Write mode which is used to edit and write new information to the file (any existing files with the same name will be erased when this mode is activated) \n",
    "   * ‘a’ – Appending mode, which is used to add new data to the end of the file; that is new information is automatically amended to the end \n",
    "   * ‘r+’ – Special read and write mode, which is used to handle both actions when working with a file \n",
    "   * **‘a+’ –  Opens a file for both appending and reading. The file pointer is at the end of the file if the file exists. The file opens in the append mode. If the file does not exist, it creates a new file for reading and writing.**\n",
    "   \n",
    "\n",
    "Moving to the beginning of a file\n",
    "```python\n",
    "    f.seek(0,0)\n",
    "```\n"
   ]
  },
  {
   "cell_type": "markdown",
   "metadata": {
    "slideshow": {
     "slide_type": "subslide"
    }
   },
   "source": [
    "## With open\n",
    "------------------------------------------------------------------------------\n",
    "\n",
    "> It is good practice to use the with keyword when dealing with file objects. The advantage is that the file is properly closed after its suite finishes, even if an exception is raised at some point. Using with is also much shorter than writing equivalent try-finally blocks:\n",
    "\n",
    "```python\n",
    "IN: with open('workfile') as f:\n",
    "        read_data = f.read()\n",
    "```"
   ]
  },
  {
   "cell_type": "markdown",
   "metadata": {
    "slideshow": {
     "slide_type": "subslide"
    }
   },
   "source": [
    "## Prepending a line to the beginning of the file\n",
    "--------------------------------------------------------------------------------\n",
    "\n",
    "* Inefficient, don't do it.\n",
    "* That's why Python does not have too straightforward way to shoot ourselves in the leg.\n",
    "\n",
    "```python\n",
    "def line_prepender(filename, line):\n",
    "    with open(filename, 'r+') as f:\n",
    "        content = f.read()\n",
    "        f.seek(0, 0)\n",
    "        f.write(line.rstrip('\\r\\n') + '\\n' + content)\n",
    "```\n"
   ]
  },
  {
   "cell_type": "markdown",
   "metadata": {
    "slideshow": {
     "slide_type": "slide"
    }
   },
   "source": [
    "## Modules, Packages\n",
    "-----------------------------------------------------\n",
    "* Help us logically organize our code\n",
    "* Distribution of reusable functionality is easier this way\n",
    "* Module - any Python (.py, .pyw) file\n",
    "* Package - collection of python modules. Will get to them when we speak about OOP.\n",
    "* Useful [guide](https://python-packaging.readthedocs.io/en/latest/minimal.html) on how to package a code for publishing.\n",
    ">It’s important to keep in mind that all packages are modules, but not all modules are packages. Or put another way, packages are just a special kind of module. Specifically, any module that contains a __path__ attribute is considered a package.\n",
    "\n"
   ]
  },
  {
   "cell_type": "markdown",
   "metadata": {
    "slideshow": {
     "slide_type": "subslide"
    }
   },
   "source": [
    "## Package managers and package repositories\n",
    "-----------------------------------------------------------------------\n",
    "\n",
    "* [PyPi repo](https://pypi.python.org/pypi)\n",
    "* PIP and easy_install\n",
    "* Wheels and eggs \n",
    "* Do not trust someone else's code!!!\n",
    "* The usage of:\n",
    "```python\n",
    "if __name__ == \"__main__\":\n",
    "```"
   ]
  },
  {
   "cell_type": "markdown",
   "metadata": {
    "slideshow": {
     "slide_type": "slide"
    }
   },
   "source": [
    "## Practice on modules - random\n",
    "------------------------------------------------------------------\n",
    "<img style=\"float: right;width:200px;height:200px;\" src=\"https://images-na.ssl-images-amazon.com/images/I/410XLGFACmL._SL500_AC_SS350_.jpg\" >\n",
    "* randint(start, stop)\n",
    "* random() - no arguments\n",
    "* uniform(start,stop)\n",
    "* gauss(mean,stdev)\n",
    "* randrange(start,stop,step)\n",
    "* choice(list)\n",
    "* shuffle(list)\n",
    "* sample(population,k)\n",
    "\n",
    "Research and try the **math** module by yourself now - pow, sqrt, abs, floor, pi."
   ]
  },
  {
   "cell_type": "markdown",
   "metadata": {
    "slideshow": {
     "slide_type": "subslide"
    }
   },
   "source": [
    "## Practice on modules - datetime\n",
    "--------------------------------------------------------------------------\n",
    "\n",
    "* There is also the time module working with UNIX timestamps.\n",
    "\n",
    "```python\n",
    "   IN: import time\n",
    "       time.time()\n",
    "   OUT: 1512813460.746369\n",
    "```\n",
    "More info in the Python Documentation [here](https://docs.python.org/3/library/time.html).\n",
    "\n",
    "* Datetime - working with civil time datestamps.\n",
    "\n",
    "```python\n",
    "  IN: from datetime import datetime\n",
    "      datetime.fromtimestamp(1512813460.746369).strftime('%Y-%m-%dT%H:%M:%SZ')\n",
    "  OUT: '2017-12-09T11:57:40Z'\n",
    "```"
   ]
  },
  {
   "cell_type": "markdown",
   "metadata": {
    "collapsed": true,
    "slideshow": {
     "slide_type": "subslide"
    }
   },
   "source": [
    "## Much datetime, very wow\n",
    "--------------------------------------------------------------\n",
    "```python\n",
    "IN: import datetime\n",
    "```\n",
    "* Constructing time objects\n",
    "```python\n",
    "IN: t = datetime.time(1, 2, 3)\n",
    "      print(t.hour, t.minute, t.second. t.tzinfo)\n",
    "```\n",
    "Also: datetime.time.min, datetime.time.max, datetime.time.resolution\n",
    "* Dates are constructed like this\n",
    "```python\n",
    "IN: today = datetime.date.today()\n",
    "      example_day = today = datetime.date(2008,5,5)\n",
    "```\n",
    "Try printing today converted to ctime(), timetuple(), toordinal().\n",
    "* Current time\n",
    "```python\n",
    "IN: datetime.datetime.now()\n",
    "```\n",
    "* Time differeces(deltas)\n",
    "```python\n",
    "IN: yesterday = datetime.date.today() - datetime.timedelta(days=1)\n",
    "```\n",
    "* Comparison\n",
    "```python\n",
    "IN: t1 = datetime.time(12, 55, 0)\n",
    "      t2 = datetime.time(13, 5, 0)\n",
    "      print(t1<t2)\n",
    "```\n"
   ]
  },
  {
   "cell_type": "markdown",
   "metadata": {
    "slideshow": {
     "slide_type": "subslide"
    }
   },
   "source": [
    "## Dates AND Times.  Timezones - deteutil intro.\n",
    "-------------------------------------------------------------------------------\n",
    "```python\n",
    "print(datetime.datetime.now())\n",
    "print(datetime.datetime.today())\n",
    "print(datetime.datetime.utcnow())\n",
    "\n",
    "d = datetime.datetime.now()\n",
    "for attr in [ 'year', 'month', 'day', 'hour', 'minute', 'second', 'microsecond']:\n",
    "    print(\"{}:{}\".format(attr,getattr(d, attr)))\n",
    "```\n",
    "OR\n",
    "```python\n",
    "\n",
    "t = datetime.time(1, 2, 3)\n",
    "d = datetime.date.today()\n",
    "dt = datetime.datetime.combine(d, t)\n",
    "print(\"Datetime: {}\".format(dt))\n",
    "```"
   ]
  },
  {
   "cell_type": "markdown",
   "metadata": {
    "slideshow": {
     "slide_type": "subslide"
    }
   },
   "source": [
    "##  Requests library\n",
    "-------------------------------------------------------------------------------------------\n",
    "```python\n",
    "r = requests.get('https://google.com')\n",
    "print(r.status_code)\n",
    "print(r.headers)\n",
    "print(r.encoding)\n",
    "print(r.text)\n",
    "```"
   ]
  },
  {
   "cell_type": "markdown",
   "metadata": {
    "slideshow": {
     "slide_type": "slide"
    }
   },
   "source": [
    "# Mutability\n",
    "----------------------------------------------------------------------------------------\n",
    "\n",
    "\n",
    ">An immutable object (unchangeable object) is an object whose state cannot be modified after it is created. This is in contrast to a mutable object (changeable object), which can be modified after it is created.\n",
    "\n",
    "                                                                                 Wikipedia\n",
    "* Immutability helps for debugging or working with multithreaded code.                                                                                  \n",
    "* Introduction to tuples. Not just list with round brackets.\n",
    "```python\n",
    "tup1 = ('physics', 'chemistry', 1997, 2000)\n",
    "tup3 = \"a\", \"b\", \"c\", \"d\"\n",
    "```"
   ]
  },
  {
   "cell_type": "markdown",
   "metadata": {
    "slideshow": {
     "slide_type": "subslide"
    }
   },
   "source": [
    "![Files](https://cdn-images-1.medium.com/max/1600/1*uFlTNY4W3czywyU18zxl8w.png)"
   ]
  },
  {
   "cell_type": "markdown",
   "metadata": {
    "slideshow": {
     "slide_type": "subslide"
    }
   },
   "source": [
    "## Mutability gotchas\n",
    "--------------------------------------------------------------------------------\n",
    "\n",
    "```python\n",
    "def create_list(element, to=[]):\n",
    "    to.append(element)\n",
    "    return to\n",
    "\n",
    "my_list = create_list(4)\n",
    "print(my_list)\n",
    "my_second_list = create_list(12)\n",
    "print(my_second_list)\n",
    "```\n",
    "This is what they give you on the easy job interviews:\n",
    "```python\n",
    "a = [5,3,2,1]\n",
    "b = a\n",
    "print(b)\n",
    "a.append(4)\n",
    "print(b)\n",
    "```\n",
    "Also we did say a tuple is immutable. But you can do the following:\n",
    "```python\n",
    "random = (3,4,5,[\"a\",\"d\",\"d\"])\n",
    "random[3][1] = 7\n",
    "print(random)\n",
    "```"
   ]
  },
  {
   "cell_type": "markdown",
   "metadata": {
    "slideshow": {
     "slide_type": "slide"
    }
   },
   "source": [
    "# Problem with procedural programming\n",
    "----------------------------------------------------------------------------------------\n",
    "\n",
    "```python\n",
    "def get_order_tax():\n",
    "    pass\n",
    "\n",
    "def get_order_discount():\n",
    "    pass\n",
    "\n",
    "def get_order_total():\n",
    "    pass\n",
    "```"
   ]
  },
  {
   "cell_type": "markdown",
   "metadata": {
    "slideshow": {
     "slide_type": "slide"
    }
   },
   "source": [
    "## Another problem\n",
    "----------------------------------------------------------------------------------------\n",
    "Having many global variables is not a good idea. Polluted global namespace may lead to errors.\n",
    "\n",
    "```python\n",
    "x1 = 5\n",
    "x2 = 20\n",
    "y1 = 3\n",
    "y2 = 16\n",
    "rise = y2 - y1\n",
    "run = x2 - x1\n",
    "\n",
    "slope = rise / run\n",
    "```\n",
    "But what happens if we need another *x1/2,y1/2* coordinates?"
   ]
  },
  {
   "cell_type": "markdown",
   "metadata": {
    "collapsed": true,
    "slideshow": {
     "slide_type": "slide"
    }
   },
   "source": [
    "# Object Oriented Programming(OOP)\n",
    "---------------------------------------------------------------------------------------\n",
    "\n",
    "* Abstraction - eliminate complexity\n",
    "* Encapsulation - hide the internals of a class\n",
    "* Inheritance - inherit members(objects) from a parent class\n",
    "* Polymorphism - access a class through its parent\n"
   ]
  },
  {
   "cell_type": "markdown",
   "metadata": {
    "slideshow": {
     "slide_type": "subslide"
    }
   },
   "source": [
    "## Classes and objects\n",
    "------------------------------------------------------\n",
    ">Class is a set or category of things having some property or attribute in common and differentiated from others by kind, type, or quality. In technical terms we can say that class is a blue print for individual objects with exact behaviour.\n",
    "\n",
    ">Object is one of instances of the class. It can perform the functionalities which are defined in the class."
   ]
  },
  {
   "cell_type": "markdown",
   "metadata": {
    "slideshow": {
     "slide_type": "subslide"
    }
   },
   "source": [
    "## Inheritance\n",
    "-------------------------------------------------------------\n",
    "* Use it for **is-a** relationships but not a **has-a** ones.\n",
    "![Employee class](http://www.dba-oracle.com/images/t_obje2.gif)\n",
    "\n",
    "* Employee is a base class\n",
    "* Executive and wage are derived classes"
   ]
  },
  {
   "cell_type": "markdown",
   "metadata": {
    "slideshow": {
     "slide_type": "fragment"
    }
   },
   "source": [
    "```python\n",
    "class Person:\n",
    "\n",
    "    def __init__(self, first, last):\n",
    "        self.firstname = first\n",
    "        self.lastname = last\n",
    "\n",
    "    def Name(self):\n",
    "        return self.firstname + \" \" + self.lastname\n",
    "\n",
    "class Employee(Person):\n",
    "\n",
    "    def __init__(self, first, last, staffnum):\n",
    "        super().__init__(first, last)\n",
    "        self.staffnumber = staffnum\n",
    "\n",
    "    def GetEmployee(self):\n",
    "        return self.Name() + \", \" +  self.staffnumber\n",
    "\n",
    "x = Person(\"Marge\", \"Simpson\")\n",
    "y = Employee(\"Homer\", \"Simpson\", \"1007\")\n",
    "\n",
    "print(x.Name())\n",
    "print(y.GetEmployee())\n",
    "```"
   ]
  },
  {
   "cell_type": "markdown",
   "metadata": {
    "slideshow": {
     "slide_type": "subslide"
    }
   },
   "source": [
    "```python\n",
    "class Pet(object):\n",
    "\n",
    "    def __init__(self, name, species):\n",
    "        self.name = name\n",
    "        self.species = species\n",
    "\n",
    "    def getName(self):\n",
    "        return self.name\n",
    "\n",
    "    def getSpecies(self):\n",
    "        return self.species\n",
    "\n",
    "    def __str__(self):\n",
    "        return \"%s is a %s\" % (self.name, self.species)\n",
    "\n",
    "\n",
    "class Cat(Pet):\n",
    "\n",
    "    def __init__(self, name, hates_dogs):\n",
    "        Pet.__init__(self, name, \"Cat\")\n",
    "        self.hates_dogs = hates_dogs\n",
    "\n",
    "    def hatesDogs(self):\n",
    "        return self.hates_dogs\n",
    "\n",
    "class Dog(Pet):\n",
    "\n",
    "    def __init__(self, name, chases_cats):\n",
    "        Pet.__init__(self, name, \"Dog\")\n",
    "        self.chases_cats = chases_cats\n",
    "\n",
    "    def chasesCats(self):\n",
    "        return self.chases_cats\n",
    "\n",
    "\n",
    "```"
   ]
  },
  {
   "cell_type": "markdown",
   "metadata": {
    "slideshow": {
     "slide_type": "subslide"
    }
   },
   "source": [
    "## Inheritance in a game architecture\n",
    "----------------------------------------------------------------------------------\n",
    "![Game Diagram](https://koenig-media.raywenderlich.com/uploads/2012/10/CCSprite_diagram.jpg)"
   ]
  },
  {
   "cell_type": "markdown",
   "metadata": {
    "slideshow": {
     "slide_type": "subslide"
    }
   },
   "source": [
    "## Inheritence benefits\n",
    "--------------------------------------------------------------------------------------------\n",
    "* Extensibility\n",
    "* Reusability\n",
    "* No redundancy - DRY compliant code"
   ]
  },
  {
   "cell_type": "markdown",
   "metadata": {
    "slideshow": {
     "slide_type": "subslide"
    }
   },
   "source": [
    "## Abstraction\n",
    "-----------------------------------------------------------------------------------------------\n",
    "* Ignoring some futures, irrelevant for your use-case\n",
    "* Abstraction helps with managing complexity\n",
    ">Abstraction tries to factor out details from a common pattern so that programmers can work close to the level of human thought, leaving out details which matter in practice, but are not exigent to the problem being solved.\n",
    "\n",
    "Simpifying a model - e.g. we do not need to know the height of the employee for our application."
   ]
  },
  {
   "cell_type": "markdown",
   "metadata": {
    "slideshow": {
     "slide_type": "subslide"
    }
   },
   "source": [
    "## UML Diagrams\n",
    "-----------------------------------------------------------------------------------------------\n",
    "![](https://image.slidesharecdn.com/umldiagrams-121030103135-phpapp02/95/uml-diagrams-38-638.jpg?cb=1351593190)\n",
    "\n",
    "* Closed/Open arrows distinction"
   ]
  },
  {
   "cell_type": "markdown",
   "metadata": {
    "slideshow": {
     "slide_type": "subslide"
    }
   },
   "source": [
    "## Encapsulation\n",
    "-------------------------------------------------------------------------------------------\n",
    "\n",
    "* Hide the implementation and expose only the attributes/methods other programmers would need. Not more!\n",
    "* Also reduces complexity - more maintainable code.\n",
    "\n",
    "```python\n",
    "class C(object):\n",
    "    def __init__(self):\n",
    "        self.a = 123    # OK to access directly\n",
    "        self._a = 123   # should be considered private\n",
    "        self.__a = 123  # considered private, name mangled\n",
    "\n",
    "c = C()\n",
    "print(c.a)\n",
    "print(c._a)\n",
    "print(c.__a)\n",
    "print(c._C__a)\n",
    "```"
   ]
  },
  {
   "cell_type": "markdown",
   "metadata": {
    "slideshow": {
     "slide_type": "subslide"
    }
   },
   "source": [
    "## Polymorphism\n",
    "----------------------------------------------------------------------------------------\n",
    "```python\n",
    "class Animal:\n",
    "    def __init__(self, name):    # Constructor of the class\n",
    "        self.name = name\n",
    "    def talk(self):              # Abstract method, defined by convention only\n",
    "        raise NotImplementedError(\"Subclass must implement abstract method\")\n",
    "\n",
    "class Cat(Animal):\n",
    "    def talk(self):\n",
    "        return 'Meow!'\n",
    "\n",
    "class Dog(Animal):\n",
    "    def talk(self):\n",
    "        return 'Woof! Woof!'\n",
    "\n",
    "animals = [Cat('Missy'),\n",
    "           Cat('Mr. Mistoffelees'),\n",
    "           Dog('Lassie')]\n",
    "\n",
    "for animal in animals:\n",
    "    print animal.name + ': ' + animal.talk() \n",
    "```\n",
    ">When several classes or subclasses have the same method names, but different implementations for these same methods, the classes are polymorphic because they are using a single interface to use with entities of different types. A function will be able to evaluate these polymorphic methods without knowing which classes are invoked. "
   ]
  },
  {
   "cell_type": "markdown",
   "metadata": {
    "slideshow": {
     "slide_type": "subslide"
    }
   },
   "source": [
    "## TODO: Cohesion and coupling\n",
    "-----------------------------------------------------------------------------------"
   ]
  },
  {
   "cell_type": "markdown",
   "metadata": {
    "collapsed": true,
    "slideshow": {
     "slide_type": "slide"
    }
   },
   "source": [
    "# GIT command line basics\n",
    "----------------------------------------------------------------------------------------------\n",
    "![Git and Github](http://blog.desafiolatam.com/wp-content/uploads/2016/05/git-github-logo.jpg)\n",
    "Prerequisites\n",
    "* Register on **Github.com**\n",
    "*  Install git from **git-scm.com**"
   ]
  },
  {
   "cell_type": "markdown",
   "metadata": {
    "slideshow": {
     "slide_type": "subslide"
    }
   },
   "source": [
    "# Local Version Control\n",
    "--------------------------------------------------\n",
    "\n",
    "![Local](https://git-scm.com/book/en/v2/images/local.png)"
   ]
  },
  {
   "cell_type": "markdown",
   "metadata": {
    "slideshow": {
     "slide_type": "subslide"
    }
   },
   "source": [
    "# Centralized Version Control (SVN)\n",
    "------------------------------------------------------------------------------\n",
    "![Centralized](https://git-scm.com/book/en/v2/images/centralized.png)"
   ]
  },
  {
   "cell_type": "markdown",
   "metadata": {
    "slideshow": {
     "slide_type": "subslide"
    }
   },
   "source": [
    "# Distributed (Git)\n",
    "------------------------------------------------------------------------------\n",
    "![Distributed](https://git-scm.com/book/en/v2/images/distributed.png)"
   ]
  },
  {
   "cell_type": "markdown",
   "metadata": {
    "slideshow": {
     "slide_type": "subslide"
    }
   },
   "source": [
    "## Fire up the terminal and pretend to be a hacker\n",
    "-------------------------------------------------------------------------\n",
    "First tell git who you are. The email here should match your Github registration.\n",
    "\n",
    "```bash\n",
    "git config --global user.name \"Your Name\"\n",
    "git config --global user.email \"youremail@here\"\n",
    "```\n",
    "Double check if it worked\n",
    "```bash\n",
    "git config --list\n",
    "```"
   ]
  },
  {
   "cell_type": "markdown",
   "metadata": {
    "slideshow": {
     "slide_type": "subslide"
    }
   },
   "source": [
    "## Hackers need help, too\n",
    "----------------------------------------------------------\n",
    "\n",
    "```bash\n",
    "git help <verb>\n",
    "git <verb> --help\n",
    "```\n",
    "```<verb> - any valid git command(config, add......)```"
   ]
  },
  {
   "cell_type": "markdown",
   "metadata": {
    "slideshow": {
     "slide_type": "subslide"
    }
   },
   "source": [
    "## Initialize a repository from existing code\n",
    "-----------------------------------------------------------------------------------\n",
    "Initalize:\n",
    "```\n",
    "git init\n",
    "```\n",
    "Check status:\n",
    "```\n",
    "git status\n",
    "```\n",
    "Add a **.gitignore** file with the following content. This is .gitignore adapted for a python project:\n",
    "```\n",
    "DS_Store\n",
    ".project\n",
    "*.pyc\n",
    "```\n",
    "Stage your files for committing:\n",
    "```\n",
    "git add .\n",
    "```\n",
    "OR\n",
    "\n",
    "```\n",
    "git add -A\n",
    "```"
   ]
  },
  {
   "cell_type": "markdown",
   "metadata": {
    "slideshow": {
     "slide_type": "subslide"
    }
   },
   "source": [
    "## Where  we are now \n",
    "--------------------------------------------------------------------------\n",
    "\n",
    "![](https://git-scm.com/book/en/v2/images/areas.png)"
   ]
  },
  {
   "cell_type": "markdown",
   "metadata": {
    "slideshow": {
     "slide_type": "subslide"
    }
   },
   "source": [
    "## Made a mistake. Staged some files I did not intend to\n",
    "----------------------------------------------------------------------------\n",
    "\n",
    "\n",
    "```bash\n",
    "git reset\n",
    "```"
   ]
  },
  {
   "cell_type": "markdown",
   "metadata": {
    "slideshow": {
     "slide_type": "subslide"
    }
   },
   "source": [
    "## Time to commit\n",
    "------------------------------------------------------------------------------\n",
    "\n",
    "```bash\n",
    "git commit -m \"Yay.My first commit\"\n",
    "```"
   ]
  },
  {
   "cell_type": "markdown",
   "metadata": {
    "slideshow": {
     "slide_type": "subslide"
    }
   },
   "source": [
    "## Workflow with remote repositories\n",
    "------------------------------------------------------------------------------\n",
    "\n",
    "```\n",
    "git clone\n",
    "git remote -v \n",
    "git branch -a\n",
    "```"
   ]
  },
  {
   "cell_type": "markdown",
   "metadata": {
    "slideshow": {
     "slide_type": "subslide"
    }
   },
   "source": [
    "## Branching basics\n",
    "---------------------------------------------------------------------------------------\n",
    "![](https://openclipart.org/download/242818/rebase0.svg)\n",
    "```\n",
    "git branch nameofbranch\n",
    "git checkout nameofbranch\n",
    "git push -u origin nameofbranch\n",
    "```\n",
    "And merging a branch to master:\n",
    "```\n",
    "git checkout master\n",
    "git pull origin master\n",
    "git branch --merged\n",
    "git merge nameofbranch\n",
    "git push origin master\n",
    "``` \n",
    "\n",
    "Deleting a branch:\n",
    "```\n",
    "git branch -d nameofbranch\n",
    "git push origin --delete nameofbranch\n",
    "```"
   ]
  },
  {
   "cell_type": "markdown",
   "metadata": {
    "slideshow": {
     "slide_type": "subslide"
    }
   },
   "source": [
    "## When the 💩hits the fan- amending, resetting and reverting commits\n",
    "Check commit hash with **git log** and the status with **git status**\n",
    "\n",
    "```\n",
    "git --amend -m \"New message for the last commit\"\n",
    "```\n",
    "Adding a file to the last commit:\n",
    "```\n",
    "git add filename\n",
    "git commit --amend\n",
    "```\n",
    "The examples above are not recommended because they change the git history and can break other's copy of the repository.\n",
    "\n",
    "```\n",
    "git reset --soft(or --hard) hashofthecommittoreturnto\n",
    "```\n",
    "or just reverting one commit:\n",
    "```\n",
    "git revert hashofthecommittorevert\n",
    "```\n",
    "Also removing untracked files from repo:\n",
    "```\n",
    "git clean -df\n",
    "```"
   ]
  },
  {
   "cell_type": "code",
   "execution_count": null,
   "metadata": {
    "collapsed": true
   },
   "outputs": [],
   "source": []
  }
 ],
 "metadata": {
  "celltoolbar": "Slideshow",
  "kernelspec": {
   "display_name": "Python 3",
   "language": "python",
   "name": "python3"
  },
  "language_info": {
   "codemirror_mode": {
    "name": "ipython",
    "version": 3
   },
   "file_extension": ".py",
   "mimetype": "text/x-python",
   "name": "python",
   "nbconvert_exporter": "python",
   "pygments_lexer": "ipython3",
   "version": "3.6.4"
  }
 },
 "nbformat": 4,
 "nbformat_minor": 2
}
