{
 "cells": [
  {
   "cell_type": "markdown",
   "metadata": {},
   "source": [
    "# Web Development with Python\n",
    "------------------------------------------------------------------------------------------------------------\n",
    "\n",
    "![](https://www.73lines.com/73lines_web/static/src/img/banner/open_source_development/python-web-services-development.jpg)"
   ]
  },
  {
   "cell_type": "markdown",
   "metadata": {},
   "source": [
    "# Python is not enough - look at the client server model\n",
    "---------------------------------------------------------------------------------------------------------\n",
    "\n",
    "![](https://qph.ec.quoracdn.net/main-qimg-fc1737f852ad695fbe81f87641fb4dae)\n",
    "\n",
    ">Python can be mainly used to build the server-side of a web application. "
   ]
  },
  {
   "cell_type": "markdown",
   "metadata": {},
   "source": [
    "> Python is not used in a web browser. The language executed in browsers such as Chrome, Firefox and Internet Explorer is JavaScript. Projects such as pyjs can compile from Python to JavaScript. However, most Python developers write their web applications using a combination of Python and JavaScript. "
   ]
  },
  {
   "cell_type": "markdown",
   "metadata": {},
   "source": [
    "# Python and Javascript, but there's more\n",
    "---------------------------------------------------------------------------------\n",
    "\n",
    "> HTML is the language for describing the structure of Web pages. HTML gives authors the means to:\n",
    "\n",
    "```html\n",
    "<html>\n",
    "  <head>\n",
    "    <title>Sample \"Hello, World\" Application's head</title>\n",
    "  </head>\n",
    "  <body>\n",
    "    <h1>Sample \"Hello, World\" Application's body</h1>\n",
    "  </body>\n",
    "</html>\n",
    "```"
   ]
  },
  {
   "cell_type": "markdown",
   "metadata": {},
   "source": [
    "# .........and more\n",
    "-----------------------------------------------------------------------------------------\n",
    "> CSS describes how HTML elements should be displayed.\n",
    "\n",
    "```css\n",
    "body {\n",
    "    background-color: lightblue;\n",
    "}\n",
    "```\n",
    "\n",
    "The css style file has to be linked inside the head element in html like this:\n",
    "\n",
    "```html\n",
    "<link rel=\"stylesheet\" href=\"styles.css\">\n",
    "```"
   ]
  },
  {
   "cell_type": "markdown",
   "metadata": {},
   "source": [
    "# Okay, let's recap\n",
    "------------------------------------------------------------------------------------------------------\n",
    "\n",
    "* I need some HTML knowledge to recognize the structure of a web page.\n",
    "* I need some CSS know-how to style the webpages.\n",
    "* I need Javascript to dynamically generate webpages.\n",
    "* I will use Python for the backend.\n",
    "\n",
    "Other skillz:\n",
    "* Basic database knowledge - connect our website/web application with a database."
   ]
  },
  {
   "cell_type": "markdown",
   "metadata": {},
   "source": [
    "# How do I create the server backend with Python then?\n",
    "--------------------------------------------------------------------------------------------\n",
    "Python has a simple built-in web server:\n",
    "```shell\n",
    "python -m http.server --cgi 8000\n",
    "```"
   ]
  },
  {
   "cell_type": "markdown",
   "metadata": {},
   "source": [
    "# However for doing anything more fancy we need a web framework\n",
    "------------------------------------------------------------------------------------------------------\n",
    "The options are:\n",
    "![](https://stxnext.com/wp-content/uploads/2016/04/python-frameworks-introduction.jpg)"
   ]
  },
  {
   "cell_type": "markdown",
   "metadata": {},
   "source": [
    "# Flask - a microframework\n",
    "--------------------------------------------------------\n",
    "A basic Flask webpage:\n",
    "\n",
    "```python\n",
    "from flask import Flask\n",
    "app = Flask(__name__)\n",
    "\n",
    "@app.route(\"/\")\n",
    "def hello():\n",
    "    return \"Hello World!\"\n",
    "\n",
    "if __name__=\"__main__\":\n",
    "    app.run()\n",
    "```\n",
    "\n",
    "And here's the whole setup:\n",
    "\n",
    "```\n",
    "$ pip install Flask\n",
    "$ FLASK_APP=hello.py flask run #linux\n",
    "$ python hello.py #windows\n",
    " * Running on http://localhost:5000/\n",
    "```"
   ]
  },
  {
   "cell_type": "markdown",
   "metadata": {},
   "source": [
    "# Flask key points:\n",
    "----------------------------------------------------------------\n",
    "\n",
    "* Absolute minimalism\n",
    "* Probably the shortest \"Hello world\" among web skeletons in Python\n",
    "* There is no even ORM in the delivery (SQL-Alchemy, peewee, etc. can be easily connected though)\n",
    "* But there is a debugger right in the browser\n",
    "\n",
    "> It is believed that the \"number of different ways to organize Flask code is equal to the number of applications written in Flask\". Also, as you can see in Flask’s scaling recommendations, as projects grows, eventually it ends up with a structure similar to Django. \"Freedom is slavery\"."
   ]
  },
  {
   "cell_type": "markdown",
   "metadata": {},
   "source": [
    "# Django - \"batteries included\"\n",
    "------------------------------------------------------------------------------------\n",
    "Not this Djago....\n",
    "![](https://medias.spotern.com/spots/w640/8860.jpg)\n",
    "The other Django."
   ]
  },
  {
   "cell_type": "markdown",
   "metadata": {},
   "source": [
    "![](https://intelligems.s3.amazonaws.com/intelligems-website/filer_public/23/a5/23a59e04-91af-4748-9eeb-429b2699017a/04_-_image.png)"
   ]
  },
  {
   "cell_type": "markdown",
   "metadata": {},
   "source": [
    "# Django key points\n",
    "--------------------------------------------------------------------------------------------------------------------\n",
    "* Mature open source project - development started in 2005\n",
    "* Fully loaded \n",
    ">  It works in a way that includes dozens of extras to help with user authentication, site maps, content administration, RSS feeds and much more such things.\n",
    "* Secure\n",
    "> It is ensured that developers don’t commit any mistakes related to security. Some of the common mistakes include SQL injection, cross-site request forgery, clickjacking and cross-site scripting. To manage effectively usernames and passwords, the user authentication system is the key.\n",
    "\n",
    "But....\n",
    "* Too monolithic\n",
    "* Everything based on Django ORM"
   ]
  },
  {
   "cell_type": "markdown",
   "metadata": {},
   "source": [
    "# Django starter steps\n",
    "-----------------------------------------------------------------------------------\n",
    "The following two slides are some prerequisites and best practises. I know it is hard to grasp but Django requires some setup.\n",
    "\n",
    "THONNY WILL NOT BE ENOUGH ANYMORE, developing with it would be hell! We need a full-fletched development IDE with proper project view file explorer. \n",
    "\n",
    "I will guide you through the following process\n",
    "1. Installing Visual Studio Code\n",
    "2. Adding the Python extension to VS Code.\n",
    "3. Making sure VS code Python interpreter is the same as the one in the terminal. (Ctrl+Shift+P shortcut might come in handy).\n",
    "\n",
    "Done...we have a working VS code instance. Now onto Virtual Environments."
   ]
  },
  {
   "cell_type": "markdown",
   "metadata": {},
   "source": [
    "## virtualenv\n",
    "-----------------------------------------------------------------------------------------------------\n",
    "\n",
    "![](https://2.bp.blogspot.com/-dDJh1jd8afc/WMbjQWZz3UI/AAAAAAAACB8/KBUg5Gngr38l843Cg2nnnGrf-ReHg1oMACLcB/s1600/python-virtual-env.png)\n",
    "\n",
    "* It is a nice idea for every Django project to be separated in a different environment from the system-wide python installation. This will save you a lot of trouble."
   ]
  },
  {
   "cell_type": "markdown",
   "metadata": {},
   "source": [
    "Installing the virtualenvironment packages:\n",
    "    \n",
    "```shell\n",
    "pip install virtualenv\n",
    "pip install virtualenvwrapper-win\n",
    "```\n",
    "\n",
    "Creating a virtual environment:\n",
    "```shell\n",
    "mkvirtualenv name\n",
    "```\n",
    "\n",
    "**!Attention! When creating a virtual environment copy the file path to its python executable. You will need it later.**\n",
    "\n",
    "Linking a virtual environment to a project folder:\n",
    "Navigate to the project folder in the terminal while having the environment activated and execute:\n",
    "```shell\n",
    "setprojectdir .\n",
    "```\n",
    "Activating and deactivating a virtual environment once you have it created:\n",
    "```shell\n",
    "workon name\n",
    "deactivate\n",
    "```\n",
    "\n",
    "Deleting a virtual environent:\n",
    "```shell\n",
    "rmvirtualenv name\n",
    "```\n",
    "\n",
    "If you need debugging or running the code inside VS studio do not forget to change the python executable to the one of the environment. This you can do in **File-Preferences-Settings**\n",
    "\n"
   ]
  },
  {
   "cell_type": "markdown",
   "metadata": {},
   "source": [
    "# Finally let's start with Django\n",
    "----------------------------------------------------------------------------\n",
    "Once you have created and activated your clean new environment, execute:\n",
    "```shell\n",
    "pip install Django\n",
    "```\n",
    "You can check if everything is properly installed by running in VS Code terminal:\n",
    "```shell\n",
    "python -m django --version\n",
    "```\n",
    "and also: \n",
    "```shell\n",
    "python --version\n",
    "```\n",
    "\n",
    "Note that not every version of Python and Django are compatible with each other. You can see the compatibility matrix [here](https://docs.djangoproject.com/en/2.0/faq/install/#faq-python-version-support)."
   ]
  },
  {
   "cell_type": "markdown",
   "metadata": {},
   "source": [
    "# Starting a new Django project is as easy as doing...........\n",
    "-----------------------------------------------------------------\n",
    "\n",
    "```shell\n",
    "django-admin startproject mysite\n",
    "```\n",
    "You can change directory into mysite now and set the environment's project directory to it.\n",
    "\n",
    "You should be seeing a file structure generated automatically. The outer mysite/ root directory is just a container for your project. Its name doesn’t matter to Django; you can rename it to anything you like. The files/folders in it are:\n",
    "\n",
    "* manage.py: A command-line utility that lets you interact with this Django project in various ways. You can read all the details about manage.py in django-admin and manage.py.\n",
    "\n",
    "* The inner mysite/ directory is the actual Python package for your project. Its name is the Python package name you’ll need to use to import anything inside it (e.g. mysite.urls).\n",
    "\n",
    "* mysite/\\_\\_init\\_\\_.py: An empty file that tells Python that this directory should be considered a Python package.\n",
    "\n",
    "* mysite/settings.py: Settings/configuration for this Django project. Django settings will tell you all about how settings work.\n",
    "\n",
    "* mysite/urls.py: The URL declarations for this Django project; a “table of contents” of your Django-powered site.\n",
    "\n",
    "* mysite/wsgi.py: An entry-point for WSGI-compatible web servers to serve your project.\n"
   ]
  },
  {
   "cell_type": "markdown",
   "metadata": {},
   "source": [
    " # Model View Template and why should I care?\n",
    "-----------------------------------------------------------------------------------\n",
    "\n",
    "> Django follows the MVT pattern:\n",
    "\n",
    ">M stands for “Model,” the data access layer. This layer contains anything and everything about the data: how to access it, how to validate it, which behaviors it has, and the relationships between the data. \n",
    "\n",
    ">T stands for “Template,” the presentation layer. This layer contains presentation-related decisions: how something should be displayed on a Web page or other type of document. \n",
    "\n",
    ">V stands for “View,” the business logic layer. This layer contains the logic that accesses the model and defers to the appropriate template(s). You can think of it as the bridge between models and templates. "
   ]
  },
  {
   "cell_type": "markdown",
   "metadata": {},
   "source": [
    "# Verify that our app works\n",
    "------------------------------------------------------------------------\n",
    "Start the Django built-it webserver:\n",
    "```shell\n",
    "python manage.py runserver\n",
    "```\n",
    "The default port it runs on is 8000 but you can always change it by suppling the port required as an additional document.\n",
    "\n",
    "**DO NOT use this web server on production e.g. to serve your website on the Internet for users.** It is built just for convenience and testing."
   ]
  },
  {
   "cell_type": "markdown",
   "metadata": {},
   "source": [
    "# Great. Let's add an app\n",
    "---------------------------------------------------------------------------\n",
    "In Django we have this concept of apps. A website is a common nation of apps.\n",
    "\n",
    "> Projects vs. apps\n",
    "What’s the difference between a project and an app? An app is a Web application that does something – e.g., a Weblog system, a database of public records or a simple poll app. A project is a collection of configuration and apps for a particular website. A project can contain multiple apps. An app can be in multiple projects.\n",
    "\n",
    "Make sure you are in the same directory as manage.py and execute:\n",
    "\n",
    "```shell\n",
    "python manage.py startapp webapp\n",
    "```\n",
    "\n",
    "Add webapp to installed apps in project's settings.py.\n",
    "Include the webapp URLs file in the project's URLs."
   ]
  },
  {
   "cell_type": "markdown",
   "metadata": {},
   "source": [
    "![](https://www.jetbrains.com/help/img/idea/2017.3/py_project_view.png)"
   ]
  },
  {
   "cell_type": "markdown",
   "metadata": {},
   "source": [
    "![](http://blog.easylearning.guru/wordpress/wp-content/uploads/2015/08/Django-Template-214x300.png)"
   ]
  },
  {
   "cell_type": "markdown",
   "metadata": {},
   "source": [
    "# Create a new view in your app\n",
    "-------------------------------------------------------\n",
    "\n",
    "Add the following code to your webapp's views file;\n",
    "\n",
    "```python\n",
    "from django.http import HttpResponse\n",
    "\n",
    "def index(request):\n",
    "    return HttpResponse(\"<h2>Hey you :) !</h2>\")\n",
    "```\n",
    "\n",
    "Add urls.py file to your webapp:\n",
    "\n",
    "```python\n",
    "from django.urls import path\n",
    "from . import views\n",
    "\n",
    "urlpatterns = [\n",
    "   path('webapp/', views.index, name='index'),\n",
    "]\n",
    "```\n",
    "\n",
    "Now reference the webapp urls into the project's urlpatterns:\n",
    "```python\n",
    "from django.urls import include\n",
    "\n",
    "urlpatterns = [\n",
    "    ......\n",
    "    path('',include('webapp.urls')),\n",
    "    ......\n",
    "```"
   ]
  },
  {
   "cell_type": "markdown",
   "metadata": {},
   "source": [
    "# Migrate and create a superuser\n",
    "-------------------------------------------\n",
    "Migrate the database\n",
    "```python\n",
    "python manage.py migrate\n",
    "```\n",
    "And create a superuser\n",
    "```python\n",
    "python manage.py createsuperuser\n",
    "```"
   ]
  },
  {
   "cell_type": "markdown",
   "metadata": {},
   "source": [
    "# Templating\n",
    "------------------------------------------------------------\n",
    "Create a templates/webapp directory in your webapp.\n",
    "\n",
    "Change your views file to:\n",
    "\n",
    "```python\n",
    "from django.shortcuts import render\n",
    "\n",
    "def index(request):\n",
    "    return render(request, 'webapp/index.html')\n",
    "```\n",
    "\n",
    "Maybe add a sign view and URL path also."
   ]
  },
  {
   "cell_type": "markdown",
   "metadata": {},
   "source": [
    "# Templating\n",
    "------------------------------------------------------------------------------------\n",
    "** You can alternatively use the Jinja templating language by changing the relevant entry settings.py.**\n",
    "\n",
    "Now we can link the sign page link like this in the index.html:\n",
    "\n",
    "```html\n",
    "{% url 'sign' %}\n",
    "```\n",
    "Now we can create a separate file extending index.html in the templates/webapp folder, let's name it extension.html:\n",
    "```html\n",
    ".............\n",
    "<body>\n",
    "\t<div>\n",
    "\t   {% block content %}\n",
    "\t   {% endblock %}\t\n",
    "\t</div>\n",
    "</body>\n",
    ".................\n",
    "```"
   ]
  },
  {
   "cell_type": "markdown",
   "metadata": {},
   "source": [
    ".......and include it into **index.html**:\n",
    "\n",
    "```html\n",
    "{% extends \"webapp/index.html\" %}\n",
    "{% block content %}\n",
    "<p>Hey! Welcome to my website! Well, I wasn't expecting guests. Um, my name is Evgeni. I am a programmer.</p>\n",
    "{% endblock %}\n",
    "```"
   ]
  },
  {
   "cell_type": "markdown",
   "metadata": {},
   "source": [
    "# We can include more files by setting a file path like this:\n",
    "---------------------------------------------------------------------------\n",
    "\n",
    "```html\n",
    "{% include 'webapp/includes/htmlsnippet.html' %}\n",
    "```"
   ]
  },
  {
   "cell_type": "markdown",
   "metadata": {},
   "source": [
    "# Javascript libraries\n",
    "----------------------------------------------------------------\n",
    "![](https://cdn-images-1.medium.com/max/1600/1*aalTd6nKuVR31c3-bEED8g.jpeg)"
   ]
  },
  {
   "cell_type": "markdown",
   "metadata": {},
   "source": [
    "# Download Bootstrap or deliever it with CDN\n",
    "-----------------------------------------------------------\n",
    "Create a folder static/webapp/css and put our css files and the bootstrap download there.\n",
    "\n",
    "Now you have to include it in the html files's head element:\n",
    "\n",
    "```html\n",
    "\t{% load static %}\n",
    "    ................\n",
    "\t<link rel=\"stylesheet\" href=\"{% static 'webapp/css/bootstrap.min.css' %}\" type = \"text/css\"/>\n",
    "```\n",
    "do the same for all the files.\n",
    "\n",
    "**HINT** You can similarly serve other static files such as images this way:\n",
    "```html\n",
    "<img src=\"{% static 'webapp/images/img/profile.jpg' %}\" class=\"responsive-img\" style='max-height:100px;' alt=\"face\">\n",
    "```"
   ]
  },
  {
   "cell_type": "markdown",
   "metadata": {},
   "source": [
    "# Deliever some fields from the database\n",
    "-----------------------------------------------------------------------------\n",
    "Create a class representing a database table in your migrations.py webapp file:\n",
    "```python\n",
    "class Comment(models.Model):\n",
    "    name = models.CharField(max_length=20)\n",
    "    comment = models.TextField()\n",
    "    date_added = models.DateTimeField(default=timezone.now)\n",
    "```\n",
    "\n",
    "Import the model in the admin.py file\n",
    "```python\n",
    "from .models import Comment\n",
    "\n",
    "admin.site.register(Comment)\n",
    "```\n",
    "Run migrations\n",
    "```python\n",
    "python manage.py makemigrations\n",
    "```\n",
    "\n",
    "Add str method in the Comment function so the comments are displayed nicely in the admin panel:\n",
    "```python\n",
    "def __str__(self):\n",
    "    return '<Name: {}, ID: {}>'.format(self.name,self.id)\n",
    "```"
   ]
  },
  {
   "cell_type": "markdown",
   "metadata": {},
   "source": [
    "# .....continue\n",
    "-----------------------------------------------------------------------------------------\n",
    "In the views file import models and pass the Comment as a variable:\n",
    "\n",
    "```python\n",
    "from .models import Comments\n",
    "\n",
    "def index(request):\n",
    "    comments = Comment.objects.order_by('-date_added')\n",
    "    context = {'comments':comments}\n",
    "    return render(request, 'webapp/index.html', context)\n",
    "```\n",
    "Add the following template into the HTML in place of the generic text:\n",
    "```html\n",
    "{% for c in comments %}\n",
    "<div class=\"page-header\">\n",
    "    <h1>{{ c.name }}</h1>\n",
    "</div>\n",
    "<div class=\"well\">\n",
    "    <h1>{{ c.comment }}</h1>\n",
    "</div>\n",
    "{% endfor %}\n",
    "```"
   ]
  },
  {
   "cell_type": "markdown",
   "metadata": {},
   "source": [
    "# Guest book form logic\n",
    "--------------------------------------------------------\n",
    "\n",
    "Create a new file called forms.py in your webapp directory:\n",
    "\n",
    "```python\n",
    "from django import forms\n",
    "\n",
    "class CommentForm(forms.Form):\n",
    "    name = forms.CharField(max_length=20)\n",
    "    comment = forms.CharField(widget=forms.Textarea())\n",
    "```\n",
    "\n",
    "Edit the sign view:\n",
    "```python\n",
    "from .forms import CommentForms\n",
    ".....\n",
    "def sign(request):\n",
    "    form = CommentForm()\n",
    ".....\n",
    "```\n",
    "And you can display the form fields somewhere in your sign.html like this:\n",
    "```html\n",
    "{{ form.name }}\n",
    "{{ form.comment }}\n",
    "```\n",
    "Delete the old html forms, restart the server and see what we have done."
   ]
  },
  {
   "cell_type": "markdown",
   "metadata": {},
   "source": [
    "# ....continue\n",
    "-------------------------------------------------\n",
    "\n",
    "In order to style the elements edit your form class like this:\n",
    "```python\n",
    "class CommentForm(forms.Form):\n",
    "    name = forms.CharField(max_length=20,\n",
    "                           widget=forms.TextInput(attrs={'class': 'form-control', 'placeholder': 'Name'}))\n",
    "    comment = forms.CharField(widget=forms.Textarea(attrs={'class': 'form-control', 'placeholder': 'Comment'}))\n",
    "```\n",
    "\n",
    "Edit the form element in the sign.html file. Add attributes: method=\"POST\" action=\"{% url 'sign' %}\". Also add the anti-CSRF attack token under the form tag:\n",
    "```html\n",
    "{% csrf_token %}\n",
    "```"
   ]
  },
  {
   "cell_type": "markdown",
   "metadata": {},
   "source": [
    "# ....continue\n",
    "------------------------------------------------\n",
    "\n",
    "Handle the POST request by submitting the data into the database. Edit your sign view:\n",
    "```python\n",
    "def sign(request):\n",
    "    if request.method == 'POST':\n",
    "        form = CommentForm(request.POST)\n",
    "\n",
    "        if form.is_valid():\n",
    "            new_comment = Comment(name=request.POST['name'], comment=request.POST['comment'])\n",
    "            new_comment.save()\n",
    "            return redirect('index')\n",
    "\n",
    "    else:\n",
    "        form = CommentForm()\n",
    "\n",
    "    context = {'form' : form}\n",
    "    return render(request, 'guestbook/sign.html', context)\n",
    "```"
   ]
  },
  {
   "cell_type": "code",
   "execution_count": null,
   "metadata": {},
   "outputs": [],
   "source": []
  }
 ],
 "metadata": {
  "kernelspec": {
   "display_name": "Python 3",
   "language": "python",
   "name": "python3"
  },
  "language_info": {
   "codemirror_mode": {
    "name": "ipython",
    "version": 3
   },
   "file_extension": ".py",
   "mimetype": "text/x-python",
   "name": "python",
   "nbconvert_exporter": "python",
   "pygments_lexer": "ipython3",
   "version": "3.6.4"
  }
 },
 "nbformat": 4,
 "nbformat_minor": 2
}
