{
 "cells": [
  {
   "cell_type": "markdown",
   "metadata": {},
   "source": [
    "# Understanding Generator Expressions (Generators)\n",
    "--------------------------------------------------------------------------------\n",
    "\n",
    "![](https://dbader-static-defugurjmqrkjo.netdna-ssl.com/figures/python-generator-expressions.jpg)"
   ]
  },
  {
   "cell_type": "markdown",
   "metadata": {},
   "source": [
    "# In-memory vs Lazy\n",
    "-----------------------------------------------------------------------------\n",
    "* Many functions in Python use or generate in-memory lists for iteration.  This is fine for relatively small list, but for large lists it becomes a problem.\n",
    "* List expressions are all created at once and kept in memory.\n",
    "\n",
    "```python\n",
    ">>>import sys \n",
    ">>>sys.getsizeof([x for x in range(0,1000000)])\n",
    ">>>4348736\n",
    "```\n",
    "\n",
    "* 4+ MegaBytes of memory just for this. And what if we don't need it all at once?\n"
   ]
  },
  {
   "cell_type": "markdown",
   "metadata": {},
   "source": [
    "# Laaaazy\n",
    "---------------------------------------------------------------------------------\n",
    "\n",
    "* Lazy Lists\n",
    "\n",
    "> A lazy list is when the next item is supplied when needed, and not before.  If we stop processing before reaching the end of the list then those unused items will never be generated or use up resources. It is also possible to run an endless list. Lazy lists are implemented by supplying an iterator to the list, rather than the whole list itself.\n",
    "\n",
    "```python\n",
    "def simp():\n",
    "    yield 10\n",
    "    yield 20\n",
    "    yield 30\n",
    " \n",
    "it=simp()\n",
    "print(next(it)) # print(it.next()) would be the Python 2 syntax\n",
    "print(next(it)) # 20\n",
    "print(next(it)) # 30\n",
    "```"
   ]
  },
  {
   "cell_type": "markdown",
   "metadata": {},
   "source": [
    "# Careful! Don't iterate over the generator itself\n",
    "----------------------------------------------------------------\n",
    "\n",
    "```python\n",
    "def simp():\n",
    "    yield 10\n",
    "    yield 20\n",
    "    yield 30\n",
    " \n",
    "simp()\n",
    "print(next(simp())) # print(it.next()) would be the Python 2 syntax\n",
    "print(next(simp())) # 10\n",
    "print(next(simp())) # 10\n",
    "```"
   ]
  },
  {
   "cell_type": "markdown",
   "metadata": {},
   "source": [
    "# Generator for a list\n",
    "------------------------------------------------------------------------------------------------\n",
    "We can use the generator like a list object:\n",
    "    \n",
    "```python\n",
    "for item in simp():\n",
    "    print(item)\n",
    "```\n",
    "\n",
    "Here's some code returning a list without generator:\n",
    "```python\n",
    "def nogen(num):\n",
    "    res=[]\n",
    "    i=0\n",
    "    while i<num:\n",
    "        i+=1\n",
    "        res.append(i)\n",
    "    return res\n",
    " \n",
    "s=nogen(10);\n",
    "print (s)\n",
    "# [1, 2, 3, 4, 5, 6, 7, 8, 9]\n",
    " \n",
    "for i in nogen(5):\n",
    "   print(i)\n",
    "```\n",
    "Try to implement it with now."
   ]
  },
  {
   "cell_type": "markdown",
   "metadata": {},
   "source": [
    "# Generator for a list cont.\n",
    "-------------------------------------------------------------------------------------------\n",
    "\n",
    "Solution:\n",
    "\n",
    "```python\n",
    "def withgen(num):\n",
    "    i=0;\n",
    "    while i<num:\n",
    "        i+=1\n",
    "        yield i\n",
    " \n",
    "s=withgen(10);\n",
    "print (s)\n",
    "# <generator object withgen at 0x1093786e0>\n",
    " \n",
    "for i in s:\n",
    "    print(i)\n",
    "```\n"
   ]
  },
  {
   "cell_type": "markdown",
   "metadata": {},
   "source": [
    "# Implementing an endless sequence\n",
    "-----------------------------------------------------------------------\n",
    "\n",
    "```python\n",
    "def simp():\n",
    "    num = 0;\n",
    "    while True: # endless loop\n",
    "        num+=10\n",
    "        yield num\n",
    " \n",
    "it=simp()\n",
    "print(it.next()) # 10\n",
    "print(it.next()) # 20\n",
    "print(it.next()) # 30\n",
    "```\n",
    "\n",
    "Sometimes we receive data from a stream and want to handle it like a sequence , with generator its easy. You can replace yielding a number with a function that receives a message from a network socket or a queue and return it etc."
   ]
  },
  {
   "cell_type": "markdown",
   "metadata": {},
   "source": [
    "# Factorial\n",
    "----------------------------------------------------------\n",
    "\n",
    "```python\n",
    "def factorial(n):\n",
    "    first = 1\n",
    "    next = 1\n",
    "    while first <= n :\n",
    "       yield next\n",
    "       first = first + 1\n",
    "       next = next * first\n",
    "       \n",
    "gen = factorial(100)\n",
    "for i in gen:\n",
    "    print(i)\n",
    "```"
   ]
  },
  {
   "cell_type": "markdown",
   "metadata": {},
   "source": [
    "# Fibonacci number generator\n",
    "--------------------------------------------------------\n",
    "\n",
    "```python\n",
    "def fib():\n",
    "    a, b = 0, 1\n",
    "    while 1:\n",
    "        yield a\n",
    "        a, b = b, a + b\n",
    "```\n",
    "\n",
    "TODO for homework : try to implement a Prime numbers generator"
   ]
  },
  {
   "cell_type": "markdown",
   "metadata": {},
   "source": [
    "# Generator expressions\n",
    "------------------------------------------------------------\n",
    "Check this out. Looks like a list expression with a small difference, right?\n",
    "\n",
    "```python\n",
    "generator = ('Hello' for i in range(0,1000))\n",
    "```\n",
    "\n",
    "It is called a generator expression. Check the size in memory of our generator and the corresponding llist comprehension."
   ]
  },
  {
   "cell_type": "markdown",
   "metadata": {},
   "source": [
    "# Exhausting generators\n",
    "-----------------------------------------\n",
    "\n",
    "```python\n",
    "def generator():\n",
    "    yield 10\n",
    "    \n",
    "gen = generator()\n",
    "print(next(gen))\n",
    "print(next(gen))\n",
    "```\n",
    "\n",
    "How should we handle **StopIteration** error?"
   ]
  },
  {
   "cell_type": "markdown",
   "metadata": {},
   "source": [
    "# Functional programming\n",
    "-----------------------------------------------------------\n",
    "\n",
    "![](http://www.foxydatascience.com/uploads/7/4/5/8/74585969/fun-prog_orig.jpg)"
   ]
  },
  {
   "cell_type": "markdown",
   "metadata": {},
   "source": [
    "> Functional programming is a paradigm which concentrates on computing results rather than on performing actions.  That is, when you call a function, the only significant effect that the function has is usually to compute a value and return it. \n",
    "\n",
    "Until now we concentrated on the imperative style of programming e.g. describing the actions which need to be executed in an order to process the input and get the desired output."
   ]
  },
  {
   "cell_type": "markdown",
   "metadata": {},
   "source": [
    "# map()\n",
    "-----------------------------------------------------------\n",
    "\n",
    "Map takes a function and a list of items. It makes a new, empty list, runs the function on each item in the original list and inserts each return value into the new list. It returns the new list.\n",
    "\n",
    "\n",
    "```python\n",
    "name_lengths = map(len, [\"Alice\", \"Bob\", \"Mary\"])\n",
    "```\n",
    "\n",
    "* Try to implement a map expression which multiplies a list by two. Can't? Let me explain about lambda functions.\n",
    "\n",
    "* Okay now create a fahrenheit to celsius converter using map()."
   ]
  },
  {
   "cell_type": "markdown",
   "metadata": {},
   "source": [
    "# filter()\n",
    "------------------------------------------------------------------------\n",
    "\n",
    "Filter extracts each element in the sequence for which the function returns True.\n",
    "Sample filter function which checks if numbers in a list are even:\n",
    "```python\n",
    "filter(lambda x: x%2==0, [3,4,2,7])\n",
    "```\n",
    "\n",
    "* Filter only the non-negative values from a list of integers.\n",
    "\n",
    "* Now filter only the elements from list A which are present in some list B, too.(Find the intersection between the two lists)"
   ]
  },
  {
   "cell_type": "markdown",
   "metadata": {},
   "source": [
    "# reduce()\n",
    "----------------------------------------------------------------------------------\n",
    "\n",
    "* Warning! From Python 3.0 is part of functools library and must be imported first.\n",
    "\n",
    "It accepts an iterator to process, but it's not an iterator itself. It returns a single result.\n",
    "\n",
    "```python\n",
    "reduce( (lambda x, y: x * y), [1, 2, 3, 4] )\n",
    "```\n",
    "\n",
    "At each step, reduce passes the current product or division, along with the next item from the list, to the passed-in lambda function. By default, the first item in the sequence initialized the starting value. \n",
    "\n",
    "* Concatenate of list of strings using reduce."
   ]
  },
  {
   "cell_type": "code",
   "execution_count": null,
   "metadata": {},
   "outputs": [],
   "source": []
  }
 ],
 "metadata": {
  "kernelspec": {
   "display_name": "Python 3",
   "language": "python",
   "name": "python3"
  },
  "language_info": {
   "codemirror_mode": {
    "name": "ipython",
    "version": 3
   },
   "file_extension": ".py",
   "mimetype": "text/x-python",
   "name": "python",
   "nbconvert_exporter": "python",
   "pygments_lexer": "ipython3",
   "version": "3.6.4"
  }
 },
 "nbformat": 4,
 "nbformat_minor": 2
}
